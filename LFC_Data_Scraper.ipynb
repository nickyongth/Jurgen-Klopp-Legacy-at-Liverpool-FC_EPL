{
  "cells": [
    {
      "cell_type": "markdown",
      "metadata": {
        "id": "H3kFa0IZ9DP3"
      },
      "source": [
        "# Import libraries"
      ]
    },
    {
      "cell_type": "code",
      "execution_count": 39,
      "metadata": {
        "id": "CG_q4Vvk9DP4"
      },
      "outputs": [],
      "source": [
        "import numpy as np\n",
        "import pandas as pd\n",
        "import matplotlib.pyplot as plt\n",
        "import seaborn as sns\n",
        "from sklearn.preprocessing import StandardScaler\n",
        "import datetime\n",
        "import plotly.graph_objects as go\n",
        "import plotly.express as px"
      ]
    },
    {
      "cell_type": "markdown",
      "metadata": {
        "id": "wTtTXvAl9DP5"
      },
      "source": [
        "# Import Dataset from fbref"
      ]
    },
    {
      "cell_type": "code",
      "source": [
        "fbref_data = {}\n",
        "\n",
        "# Loop through the seasons from 2017-2018 to 2022-2023\n",
        "for year in range(17, 24):\n",
        "    season = f\"20{year:02d}-20{year+1:02d}\"\n",
        "    url = f\"https://fbref.com/en/squads/822bd0ba/{season}/Liverpool-Stats\"\n",
        "    fbref_data[season] = pd.read_html(url)"
      ],
      "metadata": {
        "id": "1z0MavGZ8DHi"
      },
      "execution_count": 51,
      "outputs": []
    },
    {
      "cell_type": "markdown",
      "source": [
        "## Getting standard stats data for Liverpool FC from EPL Season 2017-2018 to 2023-2024"
      ],
      "metadata": {
        "id": "1ugiKmlYmiSs"
      }
    },
    {
      "cell_type": "code",
      "source": [
        "for season in fbref_data.keys():\n",
        "    # Construct the variable name based on the naming convention\n",
        "    variable_name = f\"standard_stats_season_{season.replace('-', '_')}\"\n",
        "\n",
        "    # Assign the DataFrame to the dynamically created variable\n",
        "    # Using the first table from each season's data\n",
        "    globals()[variable_name] = fbref_data[season][0]\n",
        "\n",
        "# Loop over the seasons\n",
        "for year in range(17, 24):\n",
        "    # Construct the variable name\n",
        "    df_name = f\"standard_stats_season_20{year:02d}_20{year+1:02d}\"\n",
        "\n",
        "    # Access the DataFrame using globals()\n",
        "    df = globals()[df_name]\n",
        "\n",
        "    # Perform the operations\n",
        "    # 1. Combining multi-level column names\n",
        "    df.columns = [' '.join(col).strip() for col in df.columns]\n",
        "\n",
        "    # 2. Resetting the index\n",
        "    df = df.reset_index(drop=True)\n",
        "\n",
        "    # 3. Renaming columns to handle 'level_0' occurrences\n",
        "    new_columns = []\n",
        "    for col in df.columns:\n",
        "        if 'level_0' in col:\n",
        "            new_col = col.split()[-1]  # takes the last name\n",
        "        else:\n",
        "            new_col = col\n",
        "        new_columns.append(new_col)\n",
        "    df.columns = new_columns\n",
        "\n",
        "    # 4. Filling NaN values with 0\n",
        "    df = df.fillna(0)\n",
        "\n",
        "    # 5. Optionally printing the head (first few rows) of each DataFrame\n",
        "    print(f\"Head of DataFrame for {df_name}:\")\n",
        "    print(df.head())\n",
        "\n",
        "    # Update the DataFrame in globals()\n",
        "    globals()[df_name] = df"
      ],
      "metadata": {
        "colab": {
          "base_uri": "https://localhost:8080/"
        },
        "id": "T1rA7xddXs3n",
        "outputId": "b82707c9-b184-422b-c5e5-7e2f4b8ddfff"
      },
      "execution_count": null,
      "outputs": [
        {
          "output_type": "stream",
          "name": "stdout",
          "text": [
            "Head of DataFrame for standard_stats_season_2017_2018:\n",
            "                Player   Nation Pos   Age  MP  Playing Time Starts  \\\n",
            "0        Mohamed Salah   eg EGY  FW  25.0  36                   34   \n",
            "1      Roberto Firmino   br BRA  FW  25.0  37                   32   \n",
            "2           Sadio Mané   sn SEN  FW  25.0  29                   28   \n",
            "3  Georginio Wijnaldum   nl NED  MF  26.0  33                   27   \n",
            "4     Jordan Henderson  eng ENG  MF  27.0  27                   25   \n",
            "\n",
            "   Playing Time Min  Playing Time 90s  Performance Gls  Performance Ast  ...  \\\n",
            "0            2907.0              32.3             32.0             10.0  ...   \n",
            "1            2763.0              30.7             15.0              7.0  ...   \n",
            "2            2190.0              24.3             10.0              7.0  ...   \n",
            "3            2387.0              26.5              1.0              2.0  ...   \n",
            "4            2171.0              24.1              1.0              1.0  ...   \n",
            "\n",
            "   Per 90 Minutes Ast  Per 90 Minutes G+A  Per 90 Minutes G-PK  \\\n",
            "0                0.31                1.30                 0.96   \n",
            "1                0.23                0.72                 0.46   \n",
            "2                0.29                0.70                 0.41   \n",
            "3                0.08                0.11                 0.04   \n",
            "4                0.04                0.08                 0.04   \n",
            "\n",
            "   Per 90 Minutes G+A-PK  Per 90 Minutes xG  Per 90 Minutes xAG  \\\n",
            "0                   1.27               0.75                0.23   \n",
            "1                   0.68               0.35                0.21   \n",
            "2                   0.70               0.44                0.22   \n",
            "3                   0.11               0.11                0.05   \n",
            "4                   0.08               0.05                0.08   \n",
            "\n",
            "   Per 90 Minutes xG+xAG  Per 90 Minutes npxG  Per 90 Minutes npxG+xAG  \\\n",
            "0                   0.98                 0.70                     0.93   \n",
            "1                   0.56                 0.32                     0.53   \n",
            "2                   0.66                 0.44                     0.66   \n",
            "3                   0.15                 0.11                     0.15   \n",
            "4                   0.13                 0.05                     0.12   \n",
            "\n",
            "   Matches  \n",
            "0  Matches  \n",
            "1  Matches  \n",
            "2  Matches  \n",
            "3  Matches  \n",
            "4  Matches  \n",
            "\n",
            "[5 rows x 34 columns]\n",
            "Head of DataFrame for standard_stats_season_2018_2019:\n",
            "             Player   Nation Pos   Age  MP  Playing Time Starts  \\\n",
            "0           Alisson   br BRA  GK  25.0  38                   38   \n",
            "1   Virgil van Dijk   nl NED  DF  27.0  38                   38   \n",
            "2     Mohamed Salah   eg EGY  FW  26.0  38                   37   \n",
            "3  Andrew Robertson  sct SCO  DF  24.0  36                   36   \n",
            "4        Sadio Mané   sn SEN  FW  26.0  36                   35   \n",
            "\n",
            "   Playing Time Min  Playing Time 90s  Performance Gls  Performance Ast  ...  \\\n",
            "0            3420.0              38.0              0.0              0.0  ...   \n",
            "1            3384.0              37.6              4.0              2.0  ...   \n",
            "2            3250.0              36.1             22.0              8.0  ...   \n",
            "3            3216.0              35.7              0.0             11.0  ...   \n",
            "4            3077.0              34.2             22.0              1.0  ...   \n",
            "\n",
            "   Per 90 Minutes Ast  Per 90 Minutes G+A  Per 90 Minutes G-PK  \\\n",
            "0                0.00                0.00                 0.00   \n",
            "1                0.05                0.16                 0.11   \n",
            "2                0.22                0.83                 0.53   \n",
            "3                0.31                0.31                 0.00   \n",
            "4                0.03                0.67                 0.64   \n",
            "\n",
            "   Per 90 Minutes G+A-PK  Per 90 Minutes xG  Per 90 Minutes xAG  \\\n",
            "0                   0.00               0.00                0.00   \n",
            "1                   0.16               0.08                0.04   \n",
            "2                   0.75               0.56                0.26   \n",
            "3                   0.31               0.02                0.20   \n",
            "4                   0.67               0.44                0.13   \n",
            "\n",
            "   Per 90 Minutes xG+xAG  Per 90 Minutes npxG  Per 90 Minutes npxG+xAG  \\\n",
            "0                   0.00                 0.00                     0.00   \n",
            "1                   0.12                 0.08                     0.12   \n",
            "2                   0.82                 0.49                     0.75   \n",
            "3                   0.22                 0.02                     0.22   \n",
            "4                   0.58                 0.44                     0.58   \n",
            "\n",
            "   Matches  \n",
            "0  Matches  \n",
            "1  Matches  \n",
            "2  Matches  \n",
            "3  Matches  \n",
            "4  Matches  \n",
            "\n",
            "[5 rows x 34 columns]\n",
            "Head of DataFrame for standard_stats_season_2019_2020:\n",
            "                   Player   Nation Pos   Age  MP  Playing Time Starts  \\\n",
            "0         Virgil van Dijk   nl NED  DF  28.0  38                   38   \n",
            "1  Trent Alexander-Arnold  eng ENG  DF  20.0  38                   35   \n",
            "2     Georginio Wijnaldum   nl NED  MF  28.0  37                   35   \n",
            "3        Andrew Robertson  sct SCO  DF  25.0  36                   34   \n",
            "4         Roberto Firmino   br BRA  FW  27.0  38                   34   \n",
            "\n",
            "   Playing Time Min  Playing Time 90s  Performance Gls  Performance Ast  ...  \\\n",
            "0            3420.0              38.0              5.0              1.0  ...   \n",
            "1            3175.0              35.3              4.0             13.0  ...   \n",
            "2            2935.0              32.6              4.0              0.0  ...   \n",
            "3            3111.0              34.6              2.0             12.0  ...   \n",
            "4            2988.0              33.2              9.0              8.0  ...   \n",
            "\n",
            "   Per 90 Minutes Ast  Per 90 Minutes G+A  Per 90 Minutes G-PK  \\\n",
            "0                0.03                0.16                 0.13   \n",
            "1                0.37                0.48                 0.11   \n",
            "2                0.00                0.12                 0.12   \n",
            "3                0.35                0.41                 0.06   \n",
            "4                0.24                0.51                 0.27   \n",
            "\n",
            "   Per 90 Minutes G+A-PK  Per 90 Minutes xG  Per 90 Minutes xAG  \\\n",
            "0                   0.16               0.08                0.04   \n",
            "1                   0.48               0.08                0.31   \n",
            "2                   0.12               0.08                0.02   \n",
            "3                   0.41               0.05                0.22   \n",
            "4                   0.51               0.42                0.20   \n",
            "\n",
            "   Per 90 Minutes xG+xAG  Per 90 Minutes npxG  Per 90 Minutes npxG+xAG  \\\n",
            "0                   0.11                 0.08                     0.11   \n",
            "1                   0.39                 0.08                     0.39   \n",
            "2                   0.10                 0.08                     0.10   \n",
            "3                   0.27                 0.05                     0.27   \n",
            "4                   0.62                 0.42                     0.62   \n",
            "\n",
            "   Matches  \n",
            "0  Matches  \n",
            "1  Matches  \n",
            "2  Matches  \n",
            "3  Matches  \n",
            "4  Matches  \n",
            "\n",
            "[5 rows x 34 columns]\n",
            "Head of DataFrame for standard_stats_season_2020_2021:\n",
            "                   Player   Nation Pos   Age  MP  Playing Time Starts  \\\n",
            "0        Andrew Robertson  sct SCO  DF  26.0  38                   38   \n",
            "1           Mohamed Salah   eg EGY  FW  28.0  37                   34   \n",
            "2  Trent Alexander-Arnold  eng ENG  DF  21.0  36                   34   \n",
            "3     Georginio Wijnaldum   nl NED  MF  29.0  38                   34   \n",
            "4                 Alisson   br BRA  GK  27.0  33                   33   \n",
            "\n",
            "   Playing Time Min  Playing Time 90s  Performance Gls  Performance Ast  ...  \\\n",
            "0            3383.0              37.6              1.0              7.0  ...   \n",
            "1            3078.0              34.2             22.0              5.0  ...   \n",
            "2            3031.0              33.7              2.0              7.0  ...   \n",
            "3            2941.0              32.7              2.0              0.0  ...   \n",
            "4            2970.0              33.0              1.0              0.0  ...   \n",
            "\n",
            "   Per 90 Minutes Ast  Per 90 Minutes G+A  Per 90 Minutes G-PK  \\\n",
            "0                0.19                0.21                 0.03   \n",
            "1                0.15                0.79                 0.47   \n",
            "2                0.21                0.27                 0.06   \n",
            "3                0.00                0.06                 0.06   \n",
            "4                0.00                0.03                 0.03   \n",
            "\n",
            "   Per 90 Minutes G+A-PK  Per 90 Minutes xG  Per 90 Minutes xAG  \\\n",
            "0                   0.21               0.04                0.17   \n",
            "1                   0.61               0.56                0.18   \n",
            "2                   0.27               0.08                0.26   \n",
            "3                   0.06               0.08                0.04   \n",
            "4                   0.03               0.00                0.00   \n",
            "\n",
            "   Per 90 Minutes xG+xAG  Per 90 Minutes npxG  Per 90 Minutes npxG+xAG  \\\n",
            "0                   0.21                 0.04                     0.21   \n",
            "1                   0.75                 0.43                     0.61   \n",
            "2                   0.33                 0.08                     0.33   \n",
            "3                   0.12                 0.08                     0.12   \n",
            "4                   0.00                 0.00                     0.00   \n",
            "\n",
            "   Matches  \n",
            "0  Matches  \n",
            "1  Matches  \n",
            "2  Matches  \n",
            "3  Matches  \n",
            "4  Matches  \n",
            "\n",
            "[5 rows x 34 columns]\n",
            "Head of DataFrame for standard_stats_season_2021_2022:\n",
            "                   Player   Nation Pos   Age  MP  Playing Time Starts  \\\n",
            "0                 Alisson   br BRA  GK  28.0  36                   36   \n",
            "1         Virgil van Dijk   nl NED  DF  30.0  34                   34   \n",
            "2  Trent Alexander-Arnold  eng ENG  DF  22.0  32                   32   \n",
            "3              Sadio Mané   sn SEN  FW  29.0  34                   32   \n",
            "4              Joël Matip   cm CMR  DF  29.0  31                   31   \n",
            "\n",
            "   Playing Time Min  Playing Time 90s  Performance Gls  Performance Ast  ...  \\\n",
            "0            3240.0              36.0              0.0              1.0  ...   \n",
            "1            3060.0              34.0              3.0              1.0  ...   \n",
            "2            2853.0              31.7              2.0             12.0  ...   \n",
            "3            2819.0              31.3             16.0              2.0  ...   \n",
            "4            2790.0              31.0              3.0              3.0  ...   \n",
            "\n",
            "   Per 90 Minutes Ast  Per 90 Minutes G+A  Per 90 Minutes G-PK  \\\n",
            "0                0.03                0.03                 0.00   \n",
            "1                0.03                0.12                 0.09   \n",
            "2                0.38                0.44                 0.06   \n",
            "3                0.06                0.57                 0.51   \n",
            "4                0.10                0.19                 0.10   \n",
            "\n",
            "   Per 90 Minutes G+A-PK  Per 90 Minutes xG  Per 90 Minutes xAG  \\\n",
            "0                   0.03               0.00                0.01   \n",
            "1                   0.12               0.06                0.05   \n",
            "2                   0.44               0.07                0.38   \n",
            "3                   0.57               0.55                0.17   \n",
            "4                   0.19               0.11                0.04   \n",
            "\n",
            "   Per 90 Minutes xG+xAG  Per 90 Minutes npxG  Per 90 Minutes npxG+xAG  \\\n",
            "0                   0.01                 0.00                     0.01   \n",
            "1                   0.11                 0.06                     0.11   \n",
            "2                   0.46                 0.07                     0.46   \n",
            "3                   0.72                 0.55                     0.72   \n",
            "4                   0.15                 0.11                     0.15   \n",
            "\n",
            "   Matches  \n",
            "0  Matches  \n",
            "1  Matches  \n",
            "2  Matches  \n",
            "3  Matches  \n",
            "4  Matches  \n",
            "\n",
            "[5 rows x 34 columns]\n",
            "Head of DataFrame for standard_stats_season_2022_2023:\n",
            "                   Player   Nation Pos   Age  MP  Playing Time Starts  \\\n",
            "0                 Alisson   br BRA  GK  29.0  37                   37   \n",
            "1           Mohamed Salah   eg EGY  FW  30.0  38                   37   \n",
            "2  Trent Alexander-Arnold  eng ENG  DF  23.0  37                   34   \n",
            "3         Virgil van Dijk   nl NED  DF  31.0  32                   32   \n",
            "4                 Fabinho   br BRA  MF  28.0  36                   31   \n",
            "\n",
            "   Playing Time Min  Playing Time 90s  Performance Gls  Performance Ast  ...  \\\n",
            "0            3330.0              37.0              0.0              1.0  ...   \n",
            "1            3290.0              36.6             19.0             12.0  ...   \n",
            "2            2923.0              32.5              2.0              9.0  ...   \n",
            "3            2835.0              31.5              3.0              1.0  ...   \n",
            "4            2671.0              29.7              0.0              2.0  ...   \n",
            "\n",
            "   Per 90 Minutes Ast  Per 90 Minutes G+A  Per 90 Minutes G-PK  \\\n",
            "0                0.03                0.03                 0.00   \n",
            "1                0.33                0.85                 0.47   \n",
            "2                0.28                0.34                 0.06   \n",
            "3                0.03                0.13                 0.10   \n",
            "4                0.07                0.07                 0.00   \n",
            "\n",
            "   Per 90 Minutes G+A-PK  Per 90 Minutes xG  Per 90 Minutes xAG  \\\n",
            "0                   0.03               0.00                0.01   \n",
            "1                   0.79               0.59                0.21   \n",
            "2                   0.34               0.07                0.35   \n",
            "3                   0.13               0.08                0.04   \n",
            "4                   0.07               0.02                0.07   \n",
            "\n",
            "   Per 90 Minutes xG+xAG  Per 90 Minutes npxG  Per 90 Minutes npxG+xAG  \\\n",
            "0                   0.01                 0.00                     0.01   \n",
            "1                   0.80                 0.51                     0.72   \n",
            "2                   0.43                 0.07                     0.43   \n",
            "3                   0.12                 0.08                     0.12   \n",
            "4                   0.10                 0.02                     0.10   \n",
            "\n",
            "   Matches  \n",
            "0  Matches  \n",
            "1  Matches  \n",
            "2  Matches  \n",
            "3  Matches  \n",
            "4  Matches  \n",
            "\n",
            "[5 rows x 34 columns]\n",
            "Head of DataFrame for standard_stats_season_2023_2024:\n",
            "                Player  Nation Pos     Age  Playing Time MP  \\\n",
            "0      Virgil van Dijk  nl NED  DF  32-271               27   \n",
            "1            Luis Díaz  co COL  FW  27-082               28   \n",
            "2  Alexis Mac Allister  ar ARG  MF  25-102               24   \n",
            "3   Dominik Szoboszlai  hu HUN  MF  23-162               24   \n",
            "4        Mohamed Salah  eg EGY  FW  31-294               23   \n",
            "\n",
            "   Playing Time Starts  Playing Time Min  Playing Time 90s  Performance Gls  \\\n",
            "0                   27            2367.0              26.3              2.0   \n",
            "1                   23            1924.0              21.4              7.0   \n",
            "2                   23            1899.0              21.1              3.0   \n",
            "3                   22            1821.0              20.2              3.0   \n",
            "4                   21            1906.0              21.2             16.0   \n",
            "\n",
            "   Performance Ast  ...  Per 90 Minutes Ast  Per 90 Minutes G+A  \\\n",
            "0              2.0  ...                0.08                0.15   \n",
            "1              3.0  ...                0.14                0.47   \n",
            "2              5.0  ...                0.24                0.38   \n",
            "3              2.0  ...                0.10                0.25   \n",
            "4              9.0  ...                0.42                1.18   \n",
            "\n",
            "   Per 90 Minutes G-PK  Per 90 Minutes G+A-PK  Per 90 Minutes xG  \\\n",
            "0                 0.08                   0.15               0.08   \n",
            "1                 0.33                   0.47               0.43   \n",
            "2                 0.09                   0.33               0.10   \n",
            "3                 0.15                   0.25               0.12   \n",
            "4                 0.57                   0.99               0.78   \n",
            "\n",
            "   Per 90 Minutes xAG  Per 90 Minutes xG+xAG  Per 90 Minutes npxG  \\\n",
            "0                0.06                   0.14                 0.08   \n",
            "1                0.16                   0.59                 0.43   \n",
            "2                0.12                   0.23                 0.07   \n",
            "3                0.22                   0.34                 0.12   \n",
            "4                0.44                   1.22                 0.55   \n",
            "\n",
            "   Per 90 Minutes npxG+xAG  Matches  \n",
            "0                     0.14  Matches  \n",
            "1                     0.59  Matches  \n",
            "2                     0.19  Matches  \n",
            "3                     0.34  Matches  \n",
            "4                     0.99  Matches  \n",
            "\n",
            "[5 rows x 34 columns]\n"
          ]
        }
      ]
    },
    {
      "cell_type": "code",
      "source": [
        "# Loop over the seasons and print the shape of each DataFrame\n",
        "for year in range(17, 24):\n",
        "    # Construct the variable name based on the naming convention\n",
        "    df_name = f\"standard_stats_season_20{year:02d}_20{year+1:02d}\"\n",
        "\n",
        "    # Access the DataFrame using globals() and print its shape\n",
        "    if df_name in globals():\n",
        "        print(f\"{df_name}: {globals()[df_name].shape}\")\n",
        "    else:\n",
        "        print(f\"DataFrame {df_name} not found.\")"
      ],
      "metadata": {
        "colab": {
          "base_uri": "https://localhost:8080/"
        },
        "id": "PYicVWj-arIh",
        "outputId": "70d73061-f884-4867-e714-a14ba538fe17"
      },
      "execution_count": null,
      "outputs": [
        {
          "output_type": "stream",
          "name": "stdout",
          "text": [
            "standard_stats_season_2017_2018: (34, 34)\n",
            "standard_stats_season_2018_2019: (28, 34)\n",
            "standard_stats_season_2019_2020: (31, 34)\n",
            "standard_stats_season_2020_2021: (37, 34)\n",
            "standard_stats_season_2021_2022: (37, 34)\n",
            "standard_stats_season_2022_2023: (37, 34)\n",
            "standard_stats_season_2023_2024: (40, 34)\n"
          ]
        }
      ]
    },
    {
      "cell_type": "code",
      "source": [
        "# Assuming we use the most recent season (2023-2024) as the standard for column order\n",
        "standard_column_order = globals().get('standard_stats_season_2023_2024', pd.DataFrame()).columns.tolist()\n",
        "\n",
        "# Initialize a list to store the modified DataFrames\n",
        "all_seasons_data = []\n",
        "\n",
        "# Loop over the seasons again to align all DataFrames and add the 'season' column\n",
        "for year in range(17, 24):\n",
        "    # Construct the variable name\n",
        "    df_name = f\"standard_stats_season_20{year:02d}_20{year+1:02d}\"\n",
        "\n",
        "    # Access the DataFrame using globals()\n",
        "    if df_name in globals():\n",
        "        # Create a copy to avoid modifying the original DataFrame\n",
        "        df = globals()[df_name].copy()\n",
        "\n",
        "        # Align the DataFrame to the standard column order, filling missing columns with NaN\n",
        "        df = df.reindex(columns=standard_column_order, fill_value=np.nan)\n",
        "\n",
        "        # Add the season identifier column\n",
        "        df['season'] = f\"20{year:02d}-20{year+1:02d}\"\n",
        "\n",
        "        # Append the modified DataFrame to the list\n",
        "        all_seasons_data.append(df)\n",
        "\n",
        "# Concatenate all DataFrames\n",
        "standard_stats_lfc = pd.concat(all_seasons_data, ignore_index=True)"
      ],
      "metadata": {
        "id": "v2759Cbsh62d"
      },
      "execution_count": null,
      "outputs": []
    },
    {
      "cell_type": "code",
      "source": [
        "standard_stats_lfc.info()"
      ],
      "metadata": {
        "colab": {
          "base_uri": "https://localhost:8080/"
        },
        "id": "I8sTpws_h8is",
        "outputId": "14856a6f-4f24-497a-ec6c-d7971666290d"
      },
      "execution_count": null,
      "outputs": [
        {
          "output_type": "stream",
          "name": "stdout",
          "text": [
            "<class 'pandas.core.frame.DataFrame'>\n",
            "RangeIndex: 244 entries, 0 to 243\n",
            "Data columns (total 35 columns):\n",
            " #   Column                   Non-Null Count  Dtype  \n",
            "---  ------                   --------------  -----  \n",
            " 0   Player                   244 non-null    object \n",
            " 1   Nation                   244 non-null    object \n",
            " 2   Pos                      244 non-null    object \n",
            " 3   Age                      244 non-null    object \n",
            " 4   Playing Time MP          40 non-null     float64\n",
            " 5   Playing Time Starts      244 non-null    int64  \n",
            " 6   Playing Time Min         244 non-null    float64\n",
            " 7   Playing Time 90s         244 non-null    float64\n",
            " 8   Performance Gls          244 non-null    float64\n",
            " 9   Performance Ast          244 non-null    float64\n",
            " 10  Performance G+A          244 non-null    float64\n",
            " 11  Performance G-PK         244 non-null    float64\n",
            " 12  Performance PK           244 non-null    float64\n",
            " 13  Performance PKatt        244 non-null    float64\n",
            " 14  Performance CrdY         244 non-null    float64\n",
            " 15  Performance CrdR         244 non-null    float64\n",
            " 16  Expected xG              244 non-null    float64\n",
            " 17  Expected npxG            244 non-null    float64\n",
            " 18  Expected xAG             244 non-null    float64\n",
            " 19  Expected npxG+xAG        244 non-null    float64\n",
            " 20  Progression PrgC         244 non-null    float64\n",
            " 21  Progression PrgP         244 non-null    float64\n",
            " 22  Progression PrgR         244 non-null    float64\n",
            " 23  Per 90 Minutes Gls       244 non-null    float64\n",
            " 24  Per 90 Minutes Ast       244 non-null    float64\n",
            " 25  Per 90 Minutes G+A       244 non-null    float64\n",
            " 26  Per 90 Minutes G-PK      244 non-null    float64\n",
            " 27  Per 90 Minutes G+A-PK    244 non-null    float64\n",
            " 28  Per 90 Minutes xG        244 non-null    float64\n",
            " 29  Per 90 Minutes xAG       244 non-null    float64\n",
            " 30  Per 90 Minutes xG+xAG    244 non-null    float64\n",
            " 31  Per 90 Minutes npxG      244 non-null    float64\n",
            " 32  Per 90 Minutes npxG+xAG  244 non-null    float64\n",
            " 33  Matches                  244 non-null    object \n",
            " 34  season                   244 non-null    object \n",
            "dtypes: float64(28), int64(1), object(6)\n",
            "memory usage: 66.8+ KB\n"
          ]
        }
      ]
    },
    {
      "cell_type": "code",
      "source": [
        "standard_stats_lfc['Player'].value_counts()"
      ],
      "metadata": {
        "colab": {
          "base_uri": "https://localhost:8080/"
        },
        "id": "djIez-cHkRbM",
        "outputId": "c15de35b-e209-4800-d91f-b2420d256f0e"
      },
      "execution_count": null,
      "outputs": [
        {
          "output_type": "execute_result",
          "data": {
            "text/plain": [
              "Player\n",
              "Mohamed Salah             7\n",
              "Joël Matip                7\n",
              "Curtis Jones              7\n",
              "Squad Total               7\n",
              "Trent Alexander-Arnold    7\n",
              "                         ..\n",
              "Jake Cain                 1\n",
              "Ben Davies                1\n",
              "Liam Hughes               1\n",
              "Billy Koumetio            1\n",
              "Calum Scanlon             1\n",
              "Name: count, Length: 88, dtype: int64"
            ]
          },
          "metadata": {},
          "execution_count": 7
        }
      ]
    },
    {
      "cell_type": "code",
      "source": [
        "standard_stats_lfc = standard_stats_lfc[(standard_stats_lfc['Player'] != 'Squad Total') & (standard_stats_lfc['Player'] != 'Opponent Total')]"
      ],
      "metadata": {
        "id": "QEwcb0mLkx5x"
      },
      "execution_count": null,
      "outputs": []
    },
    {
      "cell_type": "code",
      "source": [
        "standard_stats_lfc.info()"
      ],
      "metadata": {
        "colab": {
          "base_uri": "https://localhost:8080/"
        },
        "id": "2tOVypj5kz7i",
        "outputId": "74fc8cf7-41a5-4643-ac6f-298e7bee0cb3"
      },
      "execution_count": null,
      "outputs": [
        {
          "output_type": "stream",
          "name": "stdout",
          "text": [
            "<class 'pandas.core.frame.DataFrame'>\n",
            "Index: 230 entries, 0 to 241\n",
            "Data columns (total 35 columns):\n",
            " #   Column                   Non-Null Count  Dtype  \n",
            "---  ------                   --------------  -----  \n",
            " 0   Player                   230 non-null    object \n",
            " 1   Nation                   230 non-null    object \n",
            " 2   Pos                      230 non-null    object \n",
            " 3   Age                      230 non-null    object \n",
            " 4   Playing Time MP          38 non-null     float64\n",
            " 5   Playing Time Starts      230 non-null    int64  \n",
            " 6   Playing Time Min         230 non-null    float64\n",
            " 7   Playing Time 90s         230 non-null    float64\n",
            " 8   Performance Gls          230 non-null    float64\n",
            " 9   Performance Ast          230 non-null    float64\n",
            " 10  Performance G+A          230 non-null    float64\n",
            " 11  Performance G-PK         230 non-null    float64\n",
            " 12  Performance PK           230 non-null    float64\n",
            " 13  Performance PKatt        230 non-null    float64\n",
            " 14  Performance CrdY         230 non-null    float64\n",
            " 15  Performance CrdR         230 non-null    float64\n",
            " 16  Expected xG              230 non-null    float64\n",
            " 17  Expected npxG            230 non-null    float64\n",
            " 18  Expected xAG             230 non-null    float64\n",
            " 19  Expected npxG+xAG        230 non-null    float64\n",
            " 20  Progression PrgC         230 non-null    float64\n",
            " 21  Progression PrgP         230 non-null    float64\n",
            " 22  Progression PrgR         230 non-null    float64\n",
            " 23  Per 90 Minutes Gls       230 non-null    float64\n",
            " 24  Per 90 Minutes Ast       230 non-null    float64\n",
            " 25  Per 90 Minutes G+A       230 non-null    float64\n",
            " 26  Per 90 Minutes G-PK      230 non-null    float64\n",
            " 27  Per 90 Minutes G+A-PK    230 non-null    float64\n",
            " 28  Per 90 Minutes xG        230 non-null    float64\n",
            " 29  Per 90 Minutes xAG       230 non-null    float64\n",
            " 30  Per 90 Minutes xG+xAG    230 non-null    float64\n",
            " 31  Per 90 Minutes npxG      230 non-null    float64\n",
            " 32  Per 90 Minutes npxG+xAG  230 non-null    float64\n",
            " 33  Matches                  230 non-null    object \n",
            " 34  season                   230 non-null    object \n",
            "dtypes: float64(28), int64(1), object(6)\n",
            "memory usage: 64.7+ KB\n"
          ]
        }
      ]
    },
    {
      "cell_type": "code",
      "source": [
        "standard_stats_lfc.to_csv('standard_stats_lfc.csv', sep=',', index=False, encoding='utf-8-sig')"
      ],
      "metadata": {
        "id": "tj6y0uwGryQN"
      },
      "execution_count": null,
      "outputs": []
    },
    {
      "cell_type": "markdown",
      "source": [
        "## Getting scores and fixtures data for Liverpool FC from Season 2017-2018 to 2023-2024"
      ],
      "metadata": {
        "id": "_kxs6UHEmxhe"
      }
    },
    {
      "cell_type": "code",
      "source": [
        "for season in fbref_data.keys():\n",
        "    # Construct the variable name based on the naming convention\n",
        "    variable_name = f\"match_season_{season.replace('-', '_')}\"\n",
        "\n",
        "    # Assign the DataFrame to the dynamically created variable\n",
        "    # Using the first table from each season's data\n",
        "    globals()[variable_name] = fbref_data[season][1]\n",
        "\n",
        "# Loop over the seasons\n",
        "for year in range(17, 24):\n",
        "    # Construct the variable name\n",
        "    df_name = f\"match_season_20{year:02d}_20{year+1:02d}\"\n",
        "\n",
        "    # Access the DataFrame using globals()\n",
        "    df = globals()[df_name]\n",
        "\n",
        "    # Perform the operations\n",
        "    # 1. Combining multi-level column names\n",
        "    df.columns = [col.strip().replace(' ', '') for col in df.columns]\n",
        "\n",
        "    # 2. Resetting the index\n",
        "    df = df.reset_index(drop=True)\n",
        "\n",
        "    # 3. Renaming columns to handle 'level_0' occurrences\n",
        "    new_columns = []\n",
        "    for col in df.columns:\n",
        "        if 'level_0' in col:\n",
        "            new_col = col.split()[-1]  # takes the last name\n",
        "        else:\n",
        "            new_col = col\n",
        "        new_columns.append(new_col)\n",
        "    df.columns = new_columns\n",
        "\n",
        "    # 4. Filling NaN values with 0\n",
        "    df = df.fillna(0)\n",
        "\n",
        "    # 5. Optionally printing the head (first few rows) of each DataFrame\n",
        "    print(f\"Head of DataFrame for {df_name}:\")\n",
        "    print(df.head())\n",
        "\n",
        "    # Update the DataFrame in globals()\n",
        "    globals()[df_name] = df"
      ],
      "metadata": {
        "colab": {
          "base_uri": "https://localhost:8080/"
        },
        "outputId": "553068cb-a617-4b0c-eacd-7478cd31f8e6",
        "id": "uvLYG4lsm_3y"
      },
      "execution_count": null,
      "outputs": [
        {
          "output_type": "stream",
          "name": "stdout",
          "text": [
            "Head of DataFrame for match_season_2017_2018:\n",
            "         Date   Time            Comp           Round  Day Venue Result  GF  \\\n",
            "0  2017-08-12  12:30  Premier League     Matchweek 1  Sat  Away      D   3   \n",
            "1  2017-08-15  20:45    Champions Lg  Play-off round  Tue  Away      W   2   \n",
            "2  2017-08-19  15:00  Premier League     Matchweek 2  Sat  Home      W   1   \n",
            "3  2017-08-23  19:45    Champions Lg  Play-off round  Wed  Home      W   4   \n",
            "4  2017-08-27  16:00  Premier League     Matchweek 3  Sun  Home      W   4   \n",
            "\n",
            "   GA        Opponent   xG  xGA  Poss  Attendance           Captain Formation  \\\n",
            "0   3         Watford  2.6  2.1    54       20407  Jordan Henderson     4-3-3   \n",
            "1   1   de Hoffenheim  0.0  0.0    37       25568  Jordan Henderson     4-3-3   \n",
            "2   0  Crystal Palace  2.5  0.7    71       53138  Jordan Henderson     4-3-3   \n",
            "3   2   de Hoffenheim  0.0  0.0    45       51808  Jordan Henderson     4-3-3   \n",
            "4   0         Arsenal  3.1  0.6    48       53206  Jordan Henderson     4-3-3   \n",
            "\n",
            "          Referee   MatchReport                      Notes  \n",
            "0  Anthony Taylor  Match Report                          0  \n",
            "1   Björn Kuipers  Match Report                 Leg 1 of 2  \n",
            "2    Kevin Friend  Match Report                          0  \n",
            "3  Daniele Orsato  Match Report  Leg 2 of 2; Liverpool won  \n",
            "4    Craig Pawson  Match Report                          0  \n",
            "Head of DataFrame for match_season_2018_2019:\n",
            "         Date   Time            Comp        Round  Day Venue Result  GF  GA  \\\n",
            "0  2018-08-12  13:30  Premier League  Matchweek 1  Sun  Home      W   4   0   \n",
            "1  2018-08-20  20:00  Premier League  Matchweek 2  Mon  Away      W   2   0   \n",
            "2  2018-08-25  17:30  Premier League  Matchweek 3  Sat  Home      W   1   0   \n",
            "3  2018-09-01  12:30  Premier League  Matchweek 4  Sat  Away      W   2   1   \n",
            "4  2018-09-15  12:30  Premier League  Matchweek 5  Sat  Away      W   2   1   \n",
            "\n",
            "         Opponent   xG  xGA  Poss  Attendance           Captain Formation  \\\n",
            "0        West Ham  4.0  0.7    64       53235      James Milner     4-3-3   \n",
            "1  Crystal Palace  2.6  0.4    63       25750      James Milner     4-3-3   \n",
            "2        Brighton  1.6  0.6    69       53294      James Milner     4-3-3   \n",
            "3  Leicester City  1.0  1.0    49       32149  Jordan Henderson     4-3-3   \n",
            "4       Tottenham  2.6  1.0    40       80188      James Milner     4-3-3   \n",
            "\n",
            "          Referee   MatchReport Notes  \n",
            "0  Anthony Taylor  Match Report     0  \n",
            "1  Michael Oliver  Match Report     0  \n",
            "2  Chris Kavanagh  Match Report     0  \n",
            "3    Paul Tierney  Match Report     0  \n",
            "4  Michael Oliver  Match Report     0  \n",
            "Head of DataFrame for match_season_2019_2020:\n",
            "         Date   Time              Comp                Round  Day    Venue  \\\n",
            "0  2019-08-04  15:00  Community Shield  FA Community Shield  Sun  Neutral   \n",
            "1  2019-08-09  20:00    Premier League          Matchweek 1  Fri     Home   \n",
            "2  2019-08-14  22:00         Super Cup       UEFA Super Cup  Wed     Home   \n",
            "3  2019-08-17  15:00    Premier League          Matchweek 2  Sat     Away   \n",
            "4  2019-08-24  17:30    Premier League          Matchweek 3  Sat     Home   \n",
            "\n",
            "  Result     GF     GA         Opponent   xG  xGA  Poss  Attendance  \\\n",
            "0      D  1 (4)  1 (5)  Manchester City  0.0  0.0    53     77565.0   \n",
            "1      W      4      1     Norwich City  1.8  0.9    57     53333.0   \n",
            "2      D  2 (5)  2 (4)      eng Chelsea  0.0  0.0    53     38434.0   \n",
            "3      W      2      1      Southampton  1.3  1.9    63     31712.0   \n",
            "4      W      3      1          Arsenal  2.5  1.0    52     53298.0   \n",
            "\n",
            "            Captain Formation             Referee   MatchReport  \\\n",
            "0  Jordan Henderson     4-3-3     Martin Atkinson  Match Report   \n",
            "1  Jordan Henderson     4-3-3      Michael Oliver  Match Report   \n",
            "2  Jordan Henderson     4-3-3  Stéphanie Frappart  Match Report   \n",
            "3      James Milner     4-3-3      Andre Marriner  Match Report   \n",
            "4  Jordan Henderson     4-3-3      Anthony Taylor  Match Report   \n",
            "\n",
            "                                               Notes  \n",
            "0                                                  0  \n",
            "1                                                  0  \n",
            "2  Liverpool won on penalty kicks following extra...  \n",
            "3                                                  0  \n",
            "4                                                  0  \n",
            "Head of DataFrame for match_season_2020_2021:\n",
            "         Date   Time              Comp                Round  Day    Venue  \\\n",
            "0  2020-08-29  16:30  Community Shield  FA Community Shield  Sat  Neutral   \n",
            "1  2020-09-12  17:30    Premier League          Matchweek 1  Sat     Home   \n",
            "2  2020-09-20  16:30    Premier League          Matchweek 2  Sun     Away   \n",
            "3  2020-09-24  19:45           EFL Cup          Third round  Thu     Away   \n",
            "4  2020-09-28  20:00    Premier League          Matchweek 3  Mon     Home   \n",
            "\n",
            "  Result     GF     GA      Opponent   xG  xGA  Poss  Attendance  \\\n",
            "0      D  1 (4)  1 (5)       Arsenal  0.0  0.0    60         0.0   \n",
            "1      W      4      3  Leeds United  2.7  0.3    49         0.0   \n",
            "2      W      2      0       Chelsea  2.1  0.9    61         0.0   \n",
            "3      W      7      2  Lincoln City  0.0  0.0    72         0.0   \n",
            "4      W      3      1       Arsenal  2.7  1.3    66         0.0   \n",
            "\n",
            "            Captain Formation          Referee   MatchReport Notes  \n",
            "0      James Milner     4-3-3   Andre Marriner  Match Report     0  \n",
            "1  Jordan Henderson     4-3-3   Michael Oliver  Match Report     0  \n",
            "2  Jordan Henderson     4-3-3     Paul Tierney  Match Report     0  \n",
            "3   Virgil van Dijk    4-4-2◆  Tony Harrington  Match Report     0  \n",
            "4   Virgil van Dijk     4-3-3     Craig Pawson  Match Report     0  \n",
            "Head of DataFrame for match_season_2021_2022:\n",
            "         Date   Time            Comp        Round  Day Venue Result GF GA  \\\n",
            "0  2021-08-14  17:30  Premier League  Matchweek 1  Sat  Away      W  3  0   \n",
            "1  2021-08-21  12:30  Premier League  Matchweek 2  Sat  Home      W  2  0   \n",
            "2  2021-08-28  17:30  Premier League  Matchweek 3  Sat  Home      D  1  1   \n",
            "3  2021-09-12  16:30  Premier League  Matchweek 4  Sun  Away      W  3  0   \n",
            "4  2021-09-15  20:00    Champions Lg  Group stage  Wed  Home      W  3  2   \n",
            "\n",
            "       Opponent   xG  xGA  Poss  Attendance           Captain Formation  \\\n",
            "0  Norwich City  1.6  1.4    50       27023      James Milner     4-3-3   \n",
            "1       Burnley  2.7  0.9    65       52591  Jordan Henderson     4-3-3   \n",
            "2       Chelsea  2.5  0.6    65       54000  Jordan Henderson     4-3-3   \n",
            "3  Leeds United  4.3  1.2    56       36507   Virgil van Dijk     4-3-3   \n",
            "4      it Milan  2.5  1.6    60       51445  Jordan Henderson     4-3-3   \n",
            "\n",
            "            Referee   MatchReport Notes  \n",
            "0    Andre Marriner  Match Report     0  \n",
            "1         Mike Dean  Match Report     0  \n",
            "2    Anthony Taylor  Match Report     0  \n",
            "3      Craig Pawson  Match Report     0  \n",
            "4  Szymon Marciniak  Match Report     0  \n",
            "Head of DataFrame for match_season_2022_2023:\n",
            "         Date   Time              Comp                Round  Day    Venue  \\\n",
            "0  2022-07-30  17:00  Community Shield  FA Community Shield  Sat  Neutral   \n",
            "1  2022-08-06  12:30    Premier League          Matchweek 1  Sat     Away   \n",
            "2  2022-08-15  20:00    Premier League          Matchweek 2  Mon     Home   \n",
            "3  2022-08-22  20:00    Premier League          Matchweek 3  Mon     Away   \n",
            "4  2022-08-27  15:00    Premier League          Matchweek 4  Sat     Home   \n",
            "\n",
            "  Result GF GA         Opponent   xG  xGA  Poss  Attendance           Captain  \\\n",
            "0      W  3  1  Manchester City  0.0  0.0    43         0.0  Jordan Henderson   \n",
            "1      D  2  2           Fulham  1.2  1.2    67     22207.0  Jordan Henderson   \n",
            "2      D  1  1   Crystal Palace  2.0  1.0    72     52970.0      James Milner   \n",
            "3      L  1  2   Manchester Utd  1.3  1.8    70     74147.0  Jordan Henderson   \n",
            "4      W  9  0      Bournemouth  3.3  0.3    69     53328.0  Jordan Henderson   \n",
            "\n",
            "  Formation         Referee   MatchReport Notes  \n",
            "0     4-3-3    Craig Pawson  Match Report     0  \n",
            "1     4-3-3     Andy Madley  Match Report     0  \n",
            "2     4-3-3    Paul Tierney  Match Report     0  \n",
            "3     4-3-3  Michael Oliver  Match Report     0  \n",
            "4     4-3-3  Stuart Attwell  Match Report     0  \n",
            "Head of DataFrame for match_season_2023_2024:\n",
            "         Date   Time            Comp        Round  Day Venue Result   GF   GA  \\\n",
            "0  2023-08-13  16:30  Premier League  Matchweek 1  Sun  Away      D  1.0  1.0   \n",
            "1  2023-08-19  15:00  Premier League  Matchweek 2  Sat  Home      W  3.0  1.0   \n",
            "2  2023-08-27  16:30  Premier League  Matchweek 3  Sun  Away      W  2.0  1.0   \n",
            "3  2023-09-03  14:00  Premier League  Matchweek 4  Sun  Home      W  3.0  0.0   \n",
            "4  2023-09-16  12:30  Premier League  Matchweek 5  Sat  Away      W  3.0  1.0   \n",
            "\n",
            "        Opponent   xG  xGA  Poss  Attendance                 Captain  \\\n",
            "0        Chelsea  1.3  1.4  35.0     40096.0         Virgil van Dijk   \n",
            "1    Bournemouth  3.0  1.3  64.0     53145.0         Virgil van Dijk   \n",
            "2  Newcastle Utd  0.9  2.0  41.0     52214.0         Virgil van Dijk   \n",
            "3    Aston Villa  2.5  0.7  63.0     50109.0  Trent Alexander-Arnold   \n",
            "4         Wolves  2.5  0.6  65.0     31257.0        Andrew Robertson   \n",
            "\n",
            "  Formation         Referee   MatchReport Notes  \n",
            "0     4-3-3  Anthony Taylor  Match Report     0  \n",
            "1     4-3-3  Thomas Bramall  Match Report     0  \n",
            "2     4-3-3     John Brooks  Match Report     0  \n",
            "3     4-3-3    Simon Hooper  Match Report     0  \n",
            "4     4-3-3  Michael Oliver  Match Report     0  \n"
          ]
        }
      ]
    },
    {
      "cell_type": "code",
      "source": [
        "# Loop over the seasons and print the shape of each DataFrame\n",
        "for year in range(17, 24):\n",
        "    # Construct the variable name based on the naming convention\n",
        "    df_name = f\"match_season_20{year:02d}_20{year+1:02d}\"\n",
        "\n",
        "    # Access the DataFrame using globals() and print its shape\n",
        "    if df_name in globals():\n",
        "        print(f\"{df_name}: {globals()[df_name].shape}\")\n",
        "    else:\n",
        "        print(f\"DataFrame {df_name} not found.\")"
      ],
      "metadata": {
        "colab": {
          "base_uri": "https://localhost:8080/"
        },
        "outputId": "f2916d80-065d-4f81-8019-1be8370f4b8f",
        "id": "5awwfibkm_3z"
      },
      "execution_count": null,
      "outputs": [
        {
          "output_type": "stream",
          "name": "stdout",
          "text": [
            "match_season_2017_2018: (56, 19)\n",
            "match_season_2018_2019: (53, 19)\n",
            "match_season_2019_2020: (55, 19)\n",
            "match_season_2020_2021: (53, 19)\n",
            "match_season_2021_2022: (63, 19)\n",
            "match_season_2022_2023: (52, 19)\n",
            "match_season_2023_2024: (58, 19)\n"
          ]
        }
      ]
    },
    {
      "cell_type": "code",
      "source": [
        "# Assuming we use the most recent season (2023-2024) as the standard for column order\n",
        "standard_column_order = globals().get('match_season_2023_2024', pd.DataFrame()).columns.tolist()\n",
        "\n",
        "# Initialize a list to store the modified DataFrames\n",
        "all_seasons_data = []\n",
        "\n",
        "# Loop over the seasons again to align all DataFrames and add the 'season' column\n",
        "for year in range(17, 24):\n",
        "    # Construct the variable name\n",
        "    df_name = f\"match_season_20{year:02d}_20{year+1:02d}\"\n",
        "\n",
        "    # Access the DataFrame using globals()\n",
        "    if df_name in globals():\n",
        "        # Create a copy to avoid modifying the original DataFrame\n",
        "        df = globals()[df_name].copy()\n",
        "\n",
        "        # Align the DataFrame to the standard column order, filling missing columns with NaN\n",
        "        df = df.reindex(columns=standard_column_order, fill_value=np.nan)\n",
        "\n",
        "        # Add the season identifier column\n",
        "        df['season'] = f\"20{year:02d}-20{year+1:02d}\"\n",
        "\n",
        "        # Append the modified DataFrame to the list\n",
        "        all_seasons_data.append(df)\n",
        "\n",
        "# Concatenate all DataFrames\n",
        "match_lfc = pd.concat(all_seasons_data, ignore_index=True)"
      ],
      "metadata": {
        "id": "US9o1v5vm_3z"
      },
      "execution_count": null,
      "outputs": []
    },
    {
      "cell_type": "code",
      "source": [
        "match_lfc.info()"
      ],
      "metadata": {
        "colab": {
          "base_uri": "https://localhost:8080/"
        },
        "outputId": "99855c82-8e52-4825-e98e-5a0024e10d4e",
        "id": "K-RkpnbQm_3z"
      },
      "execution_count": null,
      "outputs": [
        {
          "output_type": "stream",
          "name": "stdout",
          "text": [
            "<class 'pandas.core.frame.DataFrame'>\n",
            "RangeIndex: 390 entries, 0 to 389\n",
            "Data columns (total 20 columns):\n",
            " #   Column       Non-Null Count  Dtype  \n",
            "---  ------       --------------  -----  \n",
            " 0   Date         390 non-null    object \n",
            " 1   Time         390 non-null    object \n",
            " 2   Comp         390 non-null    object \n",
            " 3   Round        390 non-null    object \n",
            " 4   Day          390 non-null    object \n",
            " 5   Venue        390 non-null    object \n",
            " 6   Result       390 non-null    object \n",
            " 7   GF           390 non-null    object \n",
            " 8   GA           390 non-null    object \n",
            " 9   Opponent     390 non-null    object \n",
            " 10  xG           390 non-null    float64\n",
            " 11  xGA          390 non-null    float64\n",
            " 12  Poss         390 non-null    float64\n",
            " 13  Attendance   390 non-null    float64\n",
            " 14  Captain      390 non-null    object \n",
            " 15  Formation    390 non-null    object \n",
            " 16  Referee      390 non-null    object \n",
            " 17  MatchReport  390 non-null    object \n",
            " 18  Notes        390 non-null    object \n",
            " 19  season       390 non-null    object \n",
            "dtypes: float64(4), object(16)\n",
            "memory usage: 61.1+ KB\n"
          ]
        }
      ]
    },
    {
      "cell_type": "code",
      "source": [
        "match_lfc.to_csv('match_lfc.csv', sep=',', index=False, encoding='utf-8-sig')"
      ],
      "metadata": {
        "id": "IQI3XANvm_3z"
      },
      "execution_count": null,
      "outputs": []
    },
    {
      "cell_type": "markdown",
      "source": [],
      "metadata": {
        "id": "riPEi747_8t4"
      }
    },
    {
      "cell_type": "markdown",
      "source": [
        "## Getting goalkeeper data for Liverpool FC from Season 2017-2018 to 2023-2024"
      ],
      "metadata": {
        "id": "2SVL0aNK_84-"
      }
    },
    {
      "cell_type": "code",
      "source": [
        "# Loop over the seasons and print the shape of each DataFrame\n",
        "for year in range(17, 24):\n",
        "    # Construct the variable name based on the naming convention\n",
        "    df_name = f\"match_season_20{year:02d}_20{year+1:02d}\"\n",
        "\n",
        "    # Access the DataFrame using globals() and print its shape\n",
        "    if df_name in globals():\n",
        "        print(f\"{df_name}: {globals()[df_name].shape}\")\n",
        "    else:\n",
        "        print(f\"DataFrame {df_name} not found.\")"
      ],
      "metadata": {
        "colab": {
          "base_uri": "https://localhost:8080/"
        },
        "outputId": "f2916d80-065d-4f81-8019-1be8370f4b8f",
        "id": "IO_NUdNx_84-"
      },
      "execution_count": null,
      "outputs": [
        {
          "output_type": "stream",
          "name": "stdout",
          "text": [
            "match_season_2017_2018: (56, 19)\n",
            "match_season_2018_2019: (53, 19)\n",
            "match_season_2019_2020: (55, 19)\n",
            "match_season_2020_2021: (53, 19)\n",
            "match_season_2021_2022: (63, 19)\n",
            "match_season_2022_2023: (52, 19)\n",
            "match_season_2023_2024: (58, 19)\n"
          ]
        }
      ]
    },
    {
      "cell_type": "code",
      "source": [
        "# Assuming we use the most recent season (2023-2024) as the standard for column order\n",
        "standard_column_order = globals().get('match_season_2023_2024', pd.DataFrame()).columns.tolist()\n",
        "\n",
        "# Initialize a list to store the modified DataFrames\n",
        "all_seasons_data = []\n",
        "\n",
        "# Loop over the seasons again to align all DataFrames and add the 'season' column\n",
        "for year in range(17, 24):\n",
        "    # Construct the variable name\n",
        "    df_name = f\"match_season_20{year:02d}_20{year+1:02d}\"\n",
        "\n",
        "    # Access the DataFrame using globals()\n",
        "    if df_name in globals():\n",
        "        # Create a copy to avoid modifying the original DataFrame\n",
        "        df = globals()[df_name].copy()\n",
        "\n",
        "        # Align the DataFrame to the standard column order, filling missing columns with NaN\n",
        "        df = df.reindex(columns=standard_column_order, fill_value=np.nan)\n",
        "\n",
        "        # Add the season identifier column\n",
        "        df['season'] = f\"20{year:02d}-20{year+1:02d}\"\n",
        "\n",
        "        # Append the modified DataFrame to the list\n",
        "        all_seasons_data.append(df)\n",
        "\n",
        "# Concatenate all DataFrames\n",
        "match_lfc = pd.concat(all_seasons_data, ignore_index=True)"
      ],
      "metadata": {
        "id": "gxVmeo6B_84_"
      },
      "execution_count": null,
      "outputs": []
    },
    {
      "cell_type": "code",
      "source": [
        "match_lfc.info()"
      ],
      "metadata": {
        "colab": {
          "base_uri": "https://localhost:8080/"
        },
        "outputId": "99855c82-8e52-4825-e98e-5a0024e10d4e",
        "id": "_9W9y9si_84_"
      },
      "execution_count": null,
      "outputs": [
        {
          "output_type": "stream",
          "name": "stdout",
          "text": [
            "<class 'pandas.core.frame.DataFrame'>\n",
            "RangeIndex: 390 entries, 0 to 389\n",
            "Data columns (total 20 columns):\n",
            " #   Column       Non-Null Count  Dtype  \n",
            "---  ------       --------------  -----  \n",
            " 0   Date         390 non-null    object \n",
            " 1   Time         390 non-null    object \n",
            " 2   Comp         390 non-null    object \n",
            " 3   Round        390 non-null    object \n",
            " 4   Day          390 non-null    object \n",
            " 5   Venue        390 non-null    object \n",
            " 6   Result       390 non-null    object \n",
            " 7   GF           390 non-null    object \n",
            " 8   GA           390 non-null    object \n",
            " 9   Opponent     390 non-null    object \n",
            " 10  xG           390 non-null    float64\n",
            " 11  xGA          390 non-null    float64\n",
            " 12  Poss         390 non-null    float64\n",
            " 13  Attendance   390 non-null    float64\n",
            " 14  Captain      390 non-null    object \n",
            " 15  Formation    390 non-null    object \n",
            " 16  Referee      390 non-null    object \n",
            " 17  MatchReport  390 non-null    object \n",
            " 18  Notes        390 non-null    object \n",
            " 19  season       390 non-null    object \n",
            "dtypes: float64(4), object(16)\n",
            "memory usage: 61.1+ KB\n"
          ]
        }
      ]
    },
    {
      "cell_type": "code",
      "source": [
        "match_lfc.to_csv('match_lfc.csv', sep=',', index=False, encoding='utf-8-sig')"
      ],
      "metadata": {
        "id": "1ucDexvy_84_"
      },
      "execution_count": null,
      "outputs": []
    },
    {
      "cell_type": "markdown",
      "source": [
        "## Getting shooting data for Liverpool FC from EPL Season 2017-2018 to 2023-2024"
      ],
      "metadata": {
        "id": "NFmzNxjJuCBa"
      }
    },
    {
      "cell_type": "code",
      "source": [
        "for season in fbref_data.keys():\n",
        "    # Construct the variable name based on the naming convention\n",
        "    variable_name = f\"shooting_season_{season.replace('-', '_')}\"\n",
        "\n",
        "    # Assign the DataFrame to the dynamically created variable\n",
        "    # Using the first table from each season's data\n",
        "    globals()[variable_name] = fbref_data[season][4]\n",
        "\n",
        "# Loop over the seasons\n",
        "for year in range(17, 24):\n",
        "    # Construct the variable name\n",
        "    df_name = f\"shooting_season_20{year:02d}_20{year+1:02d}\"\n",
        "\n",
        "    # Access the DataFrame using globals()\n",
        "    df = globals()[df_name]\n",
        "\n",
        "    # Perform the operations\n",
        "    # 1. Combining multi-level column names\n",
        "    df.columns = [' '.join(col).strip() for col in df.columns]\n",
        "\n",
        "    # 2. Resetting the index\n",
        "    df = df.reset_index(drop=True)\n",
        "\n",
        "    # 3. Renaming columns to handle 'level_0' occurrences\n",
        "    new_columns = []\n",
        "    for col in df.columns:\n",
        "        if 'level_0' in col:\n",
        "            new_col = col.split()[-1]  # takes the last name\n",
        "        else:\n",
        "            new_col = col\n",
        "        new_columns.append(new_col)\n",
        "    df.columns = new_columns\n",
        "\n",
        "    # 4. Filling NaN values with 0\n",
        "    df = df.fillna(0)\n",
        "\n",
        "    # 5. Optionally printing the head (first few rows) of each DataFrame\n",
        "    print(f\"Head of DataFrame for {df_name}:\")\n",
        "    print(df.head())\n",
        "\n",
        "    # Update the DataFrame in globals()\n",
        "    globals()[df_name] = df"
      ],
      "metadata": {
        "colab": {
          "base_uri": "https://localhost:8080/"
        },
        "outputId": "caed4960-59ff-4544-b642-c5e5c04145bb",
        "id": "XLxYi5nUuCBb"
      },
      "execution_count": null,
      "outputs": [
        {
          "output_type": "stream",
          "name": "stdout",
          "text": [
            "Head of DataFrame for shooting_season_2017_2018:\n",
            "                Player   Nation Pos   Age   90s  Standard Gls  Standard Sh  \\\n",
            "0        Mohamed Salah   eg EGY  FW  25.0  32.3            32          142   \n",
            "1      Roberto Firmino   br BRA  FW  25.0  30.7            15           83   \n",
            "2           Sadio Mané   sn SEN  FW  25.0  24.3            10           70   \n",
            "3  Georginio Wijnaldum   nl NED  MF  26.0  26.5             1           38   \n",
            "4     Jordan Henderson  eng ENG  MF  27.0  24.1             1           15   \n",
            "\n",
            "   Standard SoT  Standard SoT%  Standard Sh/90  ...  Standard Dist  \\\n",
            "0            64           45.1            4.40  ...           15.3   \n",
            "1            36           43.4            2.70  ...           17.1   \n",
            "2            26           37.1            2.88  ...           15.4   \n",
            "3             9           23.7            1.43  ...           19.0   \n",
            "4             3           20.0            0.62  ...           23.8   \n",
            "\n",
            "   Standard FK  Standard PK  Standard PKatt  Expected xG  Expected npxG  \\\n",
            "0            4            1               2         24.1           22.6   \n",
            "1            0            1               1         10.7            9.9   \n",
            "2            0            0               0         10.6           10.6   \n",
            "3            1            0               0          2.8            2.8   \n",
            "4            1            0               0          1.2            1.2   \n",
            "\n",
            "   Expected npxG/Sh  Expected G-xG  Expected np:G-xG  Matches  \n",
            "0              0.16            7.9               8.4  Matches  \n",
            "1              0.12            4.3               4.1  Matches  \n",
            "2              0.15           -0.6              -0.6  Matches  \n",
            "3              0.07           -1.8              -1.8  Matches  \n",
            "4              0.08           -0.2              -0.2  Matches  \n",
            "\n",
            "[5 rows x 23 columns]\n",
            "Head of DataFrame for shooting_season_2018_2019:\n",
            "             Player   Nation Pos   Age   90s  Standard Gls  Standard Sh  \\\n",
            "0           Alisson   br BRA  GK  25.0  38.0             0            0   \n",
            "1   Virgil van Dijk   nl NED  DF  27.0  37.6             4           31   \n",
            "2     Mohamed Salah   eg EGY  FW  26.0  36.1            22          134   \n",
            "3  Andrew Robertson  sct SCO  DF  24.0  35.7             0           16   \n",
            "4        Sadio Mané   sn SEN  FW  26.0  34.2            22           87   \n",
            "\n",
            "   Standard SoT  Standard SoT%  Standard Sh/90  ...  Standard Dist  \\\n",
            "0             0            0.0            0.00  ...            0.0   \n",
            "1             8           25.8            0.82  ...           12.9   \n",
            "2            60           44.8            3.71  ...           16.9   \n",
            "3             5           31.3            0.45  ...           18.5   \n",
            "4            42           48.3            2.54  ...           13.0   \n",
            "\n",
            "   Standard FK  Standard PK  Standard PKatt  Expected xG  Expected npxG  \\\n",
            "0            0            0               0          0.0            0.0   \n",
            "1            1            0               0          3.1            3.1   \n",
            "2            3            3               3         20.2           17.9   \n",
            "3            0            0               0          0.7            0.7   \n",
            "4            0            0               0         15.1           15.1   \n",
            "\n",
            "   Expected npxG/Sh  Expected G-xG  Expected np:G-xG  Matches  \n",
            "0              0.00            0.0               0.0  Matches  \n",
            "1              0.10            0.9               0.9  Matches  \n",
            "2              0.13            1.8               1.1  Matches  \n",
            "3              0.05           -0.7              -0.7  Matches  \n",
            "4              0.17            6.9               6.9  Matches  \n",
            "\n",
            "[5 rows x 23 columns]\n",
            "Head of DataFrame for shooting_season_2019_2020:\n",
            "                   Player   Nation Pos   Age   90s  Standard Gls  Standard Sh  \\\n",
            "0         Virgil van Dijk   nl NED  DF  28.0  38.0             5           31   \n",
            "1  Trent Alexander-Arnold  eng ENG  DF  20.0  35.3             4           44   \n",
            "2     Georginio Wijnaldum   nl NED  MF  28.0  32.6             4           36   \n",
            "3        Andrew Robertson  sct SCO  DF  25.0  34.6             2           22   \n",
            "4         Roberto Firmino   br BRA  FW  27.0  33.2             9           99   \n",
            "\n",
            "   Standard SoT  Standard SoT%  Standard Sh/90  ...  Standard Dist  \\\n",
            "0            14           45.2            0.82  ...           11.8   \n",
            "1            13           29.5            1.25  ...           22.6   \n",
            "2            15           41.7            1.10  ...           16.2   \n",
            "3             6           27.3            0.64  ...           18.6   \n",
            "4            38           38.4            2.98  ...           13.7   \n",
            "\n",
            "   Standard FK  Standard PK  Standard PKatt  Expected xG  Expected npxG  \\\n",
            "0            0            0               0          2.9            2.9   \n",
            "1           13            0               0          2.8            2.8   \n",
            "2            0            0               0          2.6            2.6   \n",
            "3            0            0               0          1.8            1.8   \n",
            "4            0            0               0         14.0           14.0   \n",
            "\n",
            "   Expected npxG/Sh  Expected G-xG  Expected np:G-xG  Matches  \n",
            "0              0.09            2.1               2.1  Matches  \n",
            "1              0.06            1.2               1.2  Matches  \n",
            "2              0.07            1.4               1.4  Matches  \n",
            "3              0.08            0.2               0.2  Matches  \n",
            "4              0.14           -5.0              -5.0  Matches  \n",
            "\n",
            "[5 rows x 23 columns]\n",
            "Head of DataFrame for shooting_season_2020_2021:\n",
            "                   Player   Nation Pos   Age   90s  Standard Gls  Standard Sh  \\\n",
            "0        Andrew Robertson  sct SCO  DF  26.0  37.6             1           19   \n",
            "1           Mohamed Salah   eg EGY  FW  28.0  34.2            22          120   \n",
            "2  Trent Alexander-Arnold  eng ENG  DF  21.0  33.7             2           55   \n",
            "3     Georginio Wijnaldum   nl NED  MF  29.0  32.7             2           31   \n",
            "4                 Alisson   br BRA  GK  27.0  33.0             1            1   \n",
            "\n",
            "   Standard SoT  Standard SoT%  Standard Sh/90  ...  Standard Dist  \\\n",
            "0             5           26.3            0.51  ...           17.4   \n",
            "1            46           38.3            3.51  ...           16.4   \n",
            "2            12           21.8            1.63  ...           24.9   \n",
            "3             9           29.0            0.95  ...           17.8   \n",
            "4             1          100.0            0.03  ...            8.4   \n",
            "\n",
            "   Standard FK  Standard PK  Standard PKatt  Expected xG  Expected npxG  \\\n",
            "0            0            0               0          1.5            1.5   \n",
            "1            1            6               6         19.3           14.6   \n",
            "2           18            0               0          2.6            2.6   \n",
            "3            1            0               0          2.6            2.6   \n",
            "4            0            0               0          0.1            0.1   \n",
            "\n",
            "   Expected npxG/Sh  Expected G-xG  Expected np:G-xG  Matches  \n",
            "0              0.08           -0.5              -0.5  Matches  \n",
            "1              0.12            2.7               1.4  Matches  \n",
            "2              0.05           -0.6              -0.6  Matches  \n",
            "3              0.08           -0.6              -0.6  Matches  \n",
            "4              0.09            0.9               0.9  Matches  \n",
            "\n",
            "[5 rows x 23 columns]\n",
            "Head of DataFrame for shooting_season_2021_2022:\n",
            "                   Player   Nation Pos   Age   90s  Standard Gls  Standard Sh  \\\n",
            "0                 Alisson   br BRA  GK  28.0  36.0             0            0   \n",
            "1         Virgil van Dijk   nl NED  DF  30.0  34.0             3           35   \n",
            "2  Trent Alexander-Arnold  eng ENG  DF  22.0  31.7             2           51   \n",
            "3              Sadio Mané   sn SEN  FW  29.0  31.3            16           98   \n",
            "4              Joël Matip   cm CMR  DF  29.0  31.0             3           35   \n",
            "\n",
            "   Standard SoT  Standard SoT%  Standard Sh/90  ...  Standard Dist  \\\n",
            "0             0            0.0            0.00  ...            0.0   \n",
            "1            14           40.0            1.03  ...           13.3   \n",
            "2            15           29.4            1.61  ...           24.0   \n",
            "3            37           37.8            3.13  ...           14.2   \n",
            "4             7           20.0            1.13  ...            9.9   \n",
            "\n",
            "   Standard FK  Standard PK  Standard PKatt  Expected xG  Expected npxG  \\\n",
            "0            0            0               0          0.0            0.0   \n",
            "1            1            0               0          2.0            2.0   \n",
            "2            8            0               0          2.4            2.4   \n",
            "3            0            0               0         17.2           17.2   \n",
            "4            0            0               0          3.4            3.4   \n",
            "\n",
            "   Expected npxG/Sh  Expected G-xG  Expected np:G-xG  Matches  \n",
            "0              0.00            0.0               0.0  Matches  \n",
            "1              0.06            1.0               1.0  Matches  \n",
            "2              0.05           -0.4              -0.4  Matches  \n",
            "3              0.18           -1.2              -1.2  Matches  \n",
            "4              0.10           -0.4              -0.4  Matches  \n",
            "\n",
            "[5 rows x 23 columns]\n",
            "Head of DataFrame for shooting_season_2022_2023:\n",
            "                   Player   Nation Pos   Age   90s  Standard Gls  Standard Sh  \\\n",
            "0                 Alisson   br BRA  GK  29.0  37.0             0            0   \n",
            "1           Mohamed Salah   eg EGY  FW  30.0  36.6            19          121   \n",
            "2  Trent Alexander-Arnold  eng ENG  DF  23.0  32.5             2           40   \n",
            "3         Virgil van Dijk   nl NED  DF  31.0  31.5             3           30   \n",
            "4                 Fabinho   br BRA  MF  28.0  29.7             0           18   \n",
            "\n",
            "   Standard SoT  Standard SoT%  Standard Sh/90  ...  Standard Dist  \\\n",
            "0             0            0.0            0.00  ...            0.0   \n",
            "1            45           37.2            3.31  ...           15.1   \n",
            "2             8           20.0            1.23  ...           23.8   \n",
            "3             9           30.0            0.95  ...           12.8   \n",
            "4             4           22.2            0.61  ...           22.0   \n",
            "\n",
            "   Standard FK  Standard PK  Standard PKatt  Expected xG  Expected npxG  \\\n",
            "0            0            0               0          0.0            0.0   \n",
            "1            2            2               4         21.7           18.5   \n",
            "2            5            0               0          2.4            2.4   \n",
            "3            0            0               0          2.6            2.6   \n",
            "4            0            0               0          0.7            0.7   \n",
            "\n",
            "   Expected npxG/Sh  Expected G-xG  Expected np:G-xG  Matches  \n",
            "0              0.00            0.0               0.0  Matches  \n",
            "1              0.15           -2.7              -1.5  Matches  \n",
            "2              0.06           -0.4              -0.4  Matches  \n",
            "3              0.09            0.4               0.4  Matches  \n",
            "4              0.04           -0.7              -0.7  Matches  \n",
            "\n",
            "[5 rows x 23 columns]\n",
            "Head of DataFrame for shooting_season_2023_2024:\n",
            "                Player  Nation Pos     Age   90s  Standard Gls  Standard Sh  \\\n",
            "0      Virgil van Dijk  nl NED  DF  32-271  26.3             2           29   \n",
            "1            Luis Díaz  co COL  FW  27-082  21.4             7           71   \n",
            "2  Alexis Mac Allister  ar ARG  MF  25-102  21.1             3           28   \n",
            "3   Dominik Szoboszlai  hu HUN  MF  23-162  20.2             3           48   \n",
            "4        Mohamed Salah  eg EGY  FW  31-294  21.2            16           76   \n",
            "\n",
            "   Standard SoT  Standard SoT%  Standard Sh/90  ...  Standard Dist  \\\n",
            "0            10           34.5            1.10  ...           12.4   \n",
            "1            24           33.8            3.32  ...           15.6   \n",
            "2             5           17.9            1.33  ...           24.9   \n",
            "3            11           22.9            2.37  ...           25.3   \n",
            "4            32           42.1            3.59  ...           16.0   \n",
            "\n",
            "   Standard FK  Standard PK  Standard PKatt  Expected xG  Expected npxG  \\\n",
            "0            1            0               0          2.1            2.1   \n",
            "1            0            0               0          9.2            9.2   \n",
            "2            0            1               1          2.2            1.4   \n",
            "3            7            0               0          2.5            2.5   \n",
            "4            1            4               6         16.5           11.6   \n",
            "\n",
            "   Expected npxG/Sh  Expected G-xG  Expected np:G-xG  Matches  \n",
            "0              0.07           -0.1              -0.1  Matches  \n",
            "1              0.13           -2.2              -2.2  Matches  \n",
            "2              0.05            0.8               0.6  Matches  \n",
            "3              0.05            0.5               0.5  Matches  \n",
            "4              0.15           -0.5               0.4  Matches  \n",
            "\n",
            "[5 rows x 23 columns]\n"
          ]
        }
      ]
    },
    {
      "cell_type": "code",
      "source": [
        "# Loop over the seasons and print the shape of each DataFrame\n",
        "for year in range(17, 24):\n",
        "    # Construct the variable name based on the naming convention\n",
        "    df_name = f\"shooting_season_20{year:02d}_20{year+1:02d}\"\n",
        "\n",
        "    # Access the DataFrame using globals() and print its shape\n",
        "    if df_name in globals():\n",
        "        print(f\"{df_name}: {globals()[df_name].shape}\")\n",
        "    else:\n",
        "        print(f\"DataFrame {df_name} not found.\")"
      ],
      "metadata": {
        "colab": {
          "base_uri": "https://localhost:8080/"
        },
        "outputId": "9eceeec3-943d-47b9-af35-8ddfecaa21ae",
        "id": "DOn4l7VXuCBb"
      },
      "execution_count": null,
      "outputs": [
        {
          "output_type": "stream",
          "name": "stdout",
          "text": [
            "shooting_season_2017_2018: (29, 23)\n",
            "shooting_season_2018_2019: (25, 23)\n",
            "shooting_season_2019_2020: (26, 23)\n",
            "shooting_season_2020_2021: (30, 23)\n",
            "shooting_season_2021_2022: (29, 23)\n",
            "shooting_season_2022_2023: (30, 23)\n",
            "shooting_season_2023_2024: (31, 23)\n"
          ]
        }
      ]
    },
    {
      "cell_type": "code",
      "source": [
        "# Assuming we use the most recent season (2023-2024) as the standard for column order\n",
        "standard_column_order = globals().get('shooting_season_2023_2024', pd.DataFrame()).columns.tolist()\n",
        "\n",
        "# Initialize a list to store the modified DataFrames\n",
        "all_seasons_data = []\n",
        "\n",
        "# Loop over the seasons again to align all DataFrames and add the 'season' column\n",
        "for year in range(17, 24):\n",
        "    # Construct the variable name\n",
        "    df_name = f\"shooting_season_20{year:02d}_20{year+1:02d}\"\n",
        "\n",
        "    # Access the DataFrame using globals()\n",
        "    if df_name in globals():\n",
        "        # Create a copy to avoid modifying the original DataFrame\n",
        "        df = globals()[df_name].copy()\n",
        "\n",
        "        # Align the DataFrame to the standard column order, filling missing columns with NaN\n",
        "        df = df.reindex(columns=standard_column_order, fill_value=np.nan)\n",
        "\n",
        "        # Add the season identifier column\n",
        "        df['season'] = f\"20{year:02d}-20{year+1:02d}\"\n",
        "\n",
        "        # Append the modified DataFrame to the list\n",
        "        all_seasons_data.append(df)\n",
        "\n",
        "# Concatenate all DataFrames\n",
        "shooting_lfc = pd.concat(all_seasons_data, ignore_index=True)"
      ],
      "metadata": {
        "id": "kW5wL-zluCBb"
      },
      "execution_count": null,
      "outputs": []
    },
    {
      "cell_type": "code",
      "source": [
        "shooting_lfc.info()"
      ],
      "metadata": {
        "colab": {
          "base_uri": "https://localhost:8080/"
        },
        "outputId": "d350c3a7-9948-4ba1-d648-c013bac365d1",
        "id": "DwWmIYxiuCBb"
      },
      "execution_count": null,
      "outputs": [
        {
          "output_type": "stream",
          "name": "stdout",
          "text": [
            "<class 'pandas.core.frame.DataFrame'>\n",
            "RangeIndex: 200 entries, 0 to 199\n",
            "Data columns (total 24 columns):\n",
            " #   Column            Non-Null Count  Dtype  \n",
            "---  ------            --------------  -----  \n",
            " 0   Player            200 non-null    object \n",
            " 1   Nation            200 non-null    object \n",
            " 2   Pos               200 non-null    object \n",
            " 3   Age               200 non-null    object \n",
            " 4   90s               200 non-null    float64\n",
            " 5   Standard Gls      200 non-null    int64  \n",
            " 6   Standard Sh       200 non-null    int64  \n",
            " 7   Standard SoT      200 non-null    int64  \n",
            " 8   Standard SoT%     200 non-null    float64\n",
            " 9   Standard Sh/90    200 non-null    float64\n",
            " 10  Standard SoT/90   200 non-null    float64\n",
            " 11  Standard G/Sh     200 non-null    float64\n",
            " 12  Standard G/SoT    200 non-null    float64\n",
            " 13  Standard Dist     200 non-null    float64\n",
            " 14  Standard FK       200 non-null    int64  \n",
            " 15  Standard PK       200 non-null    int64  \n",
            " 16  Standard PKatt    200 non-null    int64  \n",
            " 17  Expected xG       200 non-null    float64\n",
            " 18  Expected npxG     200 non-null    float64\n",
            " 19  Expected npxG/Sh  200 non-null    float64\n",
            " 20  Expected G-xG     200 non-null    float64\n",
            " 21  Expected np:G-xG  200 non-null    float64\n",
            " 22  Matches           200 non-null    object \n",
            " 23  season            200 non-null    object \n",
            "dtypes: float64(12), int64(6), object(6)\n",
            "memory usage: 37.6+ KB\n"
          ]
        }
      ]
    },
    {
      "cell_type": "code",
      "source": [
        "shooting_lfc['Player'].value_counts()"
      ],
      "metadata": {
        "colab": {
          "base_uri": "https://localhost:8080/"
        },
        "id": "M_VLIj-Ew6Kj",
        "outputId": "f63160aa-1e7b-45c2-8c95-fcbac3d592d4"
      },
      "execution_count": null,
      "outputs": [
        {
          "output_type": "execute_result",
          "data": {
            "text/plain": [
              "Player\n",
              "Mohamed Salah             7\n",
              "Joël Matip                7\n",
              "Virgil van Dijk           7\n",
              "Opponent Total            7\n",
              "Trent Alexander-Arnold    7\n",
              "                         ..\n",
              "Philippe Coutinho         1\n",
              "Dominic Solanke           1\n",
              "Danny Ings                1\n",
              "Rafael Camacho            1\n",
              "James McConnell           1\n",
              "Name: count, Length: 65, dtype: int64"
            ]
          },
          "metadata": {},
          "execution_count": 22
        }
      ]
    },
    {
      "cell_type": "code",
      "source": [
        "shooting_lfc = shooting_lfc[(shooting_lfc['Player'] != 'Squad Total') & (shooting_lfc['Player'] != 'Opponent Total')]"
      ],
      "metadata": {
        "id": "CTWbf5d3xE1Z"
      },
      "execution_count": null,
      "outputs": []
    },
    {
      "cell_type": "code",
      "source": [
        "shooting_lfc.info()"
      ],
      "metadata": {
        "colab": {
          "base_uri": "https://localhost:8080/"
        },
        "id": "sz8CGjDSxJXu",
        "outputId": "099fbe1e-b35f-4ff7-b30d-6d71ee49794c"
      },
      "execution_count": null,
      "outputs": [
        {
          "output_type": "stream",
          "name": "stdout",
          "text": [
            "<class 'pandas.core.frame.DataFrame'>\n",
            "Index: 186 entries, 0 to 197\n",
            "Data columns (total 24 columns):\n",
            " #   Column            Non-Null Count  Dtype  \n",
            "---  ------            --------------  -----  \n",
            " 0   Player            186 non-null    object \n",
            " 1   Nation            186 non-null    object \n",
            " 2   Pos               186 non-null    object \n",
            " 3   Age               186 non-null    object \n",
            " 4   90s               186 non-null    float64\n",
            " 5   Standard Gls      186 non-null    int64  \n",
            " 6   Standard Sh       186 non-null    int64  \n",
            " 7   Standard SoT      186 non-null    int64  \n",
            " 8   Standard SoT%     186 non-null    float64\n",
            " 9   Standard Sh/90    186 non-null    float64\n",
            " 10  Standard SoT/90   186 non-null    float64\n",
            " 11  Standard G/Sh     186 non-null    float64\n",
            " 12  Standard G/SoT    186 non-null    float64\n",
            " 13  Standard Dist     186 non-null    float64\n",
            " 14  Standard FK       186 non-null    int64  \n",
            " 15  Standard PK       186 non-null    int64  \n",
            " 16  Standard PKatt    186 non-null    int64  \n",
            " 17  Expected xG       186 non-null    float64\n",
            " 18  Expected npxG     186 non-null    float64\n",
            " 19  Expected npxG/Sh  186 non-null    float64\n",
            " 20  Expected G-xG     186 non-null    float64\n",
            " 21  Expected np:G-xG  186 non-null    float64\n",
            " 22  Matches           186 non-null    object \n",
            " 23  season            186 non-null    object \n",
            "dtypes: float64(12), int64(6), object(6)\n",
            "memory usage: 36.3+ KB\n"
          ]
        }
      ]
    },
    {
      "cell_type": "code",
      "source": [
        "shooting_lfc.to_csv('shooting_lfc.csv', sep=',', index=False, encoding='utf-8-sig')"
      ],
      "metadata": {
        "id": "mN586Q5huCBb"
      },
      "execution_count": null,
      "outputs": []
    },
    {
      "cell_type": "markdown",
      "source": [
        "## Getting passing data for Liverpool FC from EPL Season 2017-2018 to 2023-2024"
      ],
      "metadata": {
        "id": "L8vdBupjxjnw"
      }
    },
    {
      "cell_type": "code",
      "source": [
        "for season in fbref_data.keys():\n",
        "    # Construct the variable name based on the naming convention\n",
        "    variable_name = f\"passing_season_{season.replace('-', '_')}\"\n",
        "\n",
        "    # Assign the DataFrame to the dynamically created variable\n",
        "    # Using the first table from each season's data\n",
        "    globals()[variable_name] = fbref_data[season][5]\n",
        "\n",
        "# Loop over the seasons\n",
        "for year in range(17, 24):\n",
        "    # Construct the variable name\n",
        "    df_name = f\"passing_season_20{year:02d}_20{year+1:02d}\"\n",
        "\n",
        "    # Access the DataFrame using globals()\n",
        "    df = globals()[df_name]\n",
        "\n",
        "    # Perform the operations\n",
        "    # 1. Combining multi-level column names\n",
        "    df.columns = [' '.join(col).strip() for col in df.columns]\n",
        "\n",
        "    # 2. Resetting the index\n",
        "    df = df.reset_index(drop=True)\n",
        "\n",
        "    # 3. Renaming columns to handle 'level_0' occurrences\n",
        "    new_columns = []\n",
        "    for col in df.columns:\n",
        "        if 'level_0' in col:\n",
        "            new_col = col.split()[-1]  # takes the last name\n",
        "        else:\n",
        "            new_col = col\n",
        "        new_columns.append(new_col)\n",
        "    df.columns = new_columns\n",
        "\n",
        "    # 4. Filling NaN values with 0\n",
        "    df = df.fillna(0)\n",
        "\n",
        "    # 5. Optionally printing the head (first few rows) of each DataFrame\n",
        "    print(f\"Head of DataFrame for {df_name}:\")\n",
        "    print(df.head())\n",
        "\n",
        "    # Update the DataFrame in globals()\n",
        "    globals()[df_name] = df"
      ],
      "metadata": {
        "colab": {
          "base_uri": "https://localhost:8080/"
        },
        "outputId": "4db34915-f292-4d4f-f06a-405ef48d96f5",
        "id": "pKqTcCsXxjny"
      },
      "execution_count": null,
      "outputs": [
        {
          "output_type": "stream",
          "name": "stdout",
          "text": [
            "Head of DataFrame for passing_season_2017_2018:\n",
            "                Player   Nation Pos   Age   90s  Total Cmp  Total Att  \\\n",
            "0        Mohamed Salah   eg EGY  FW  25.0  32.3        772       1055   \n",
            "1      Roberto Firmino   br BRA  FW  25.0  30.7        869       1233   \n",
            "2           Sadio Mané   sn SEN  FW  25.0  24.3        787       1005   \n",
            "3  Georginio Wijnaldum   nl NED  MF  26.0  26.5       1145       1283   \n",
            "4     Jordan Henderson  eng ENG  MF  27.0  24.1       1769       2117   \n",
            "\n",
            "   Total Cmp%  Total TotDist  Total PrgDist  ...  Ast  xAG  Expected xA  \\\n",
            "0        73.2          11021           3263  ...   10  7.5          6.1   \n",
            "1        70.5          11802           3204  ...    7  6.5          5.6   \n",
            "2        78.3          11585           2403  ...    7  5.4          4.9   \n",
            "3        89.2          18447           3622  ...    2  1.2          1.6   \n",
            "4        83.6          33580           9305  ...    1  1.8          2.4   \n",
            "\n",
            "   Expected A-xAG  KP  1/3  PPA  CrsPA  PrgP  Matches  \n",
            "0             2.5  62   42   43      3    97  Matches  \n",
            "1             0.5  57   68   45      0   136  Matches  \n",
            "2             1.6  48   55   56      5   120  Matches  \n",
            "3             0.8  22   94   10      1   116  Matches  \n",
            "4            -0.8  25  245   29      3   249  Matches  \n",
            "\n",
            "[5 rows x 29 columns]\n",
            "Head of DataFrame for passing_season_2018_2019:\n",
            "             Player   Nation Pos   Age   90s  Total Cmp  Total Att  \\\n",
            "0           Alisson   br BRA  GK  25.0  38.0       1075       1290   \n",
            "1   Virgil van Dijk   nl NED  DF  27.0  37.6       2730       3049   \n",
            "2     Mohamed Salah   eg EGY  FW  26.0  36.1        846       1152   \n",
            "3  Andrew Robertson  sct SCO  DF  24.0  35.7       2285       2840   \n",
            "4        Sadio Mané   sn SEN  FW  26.0  34.2        946       1243   \n",
            "\n",
            "   Total Cmp%  Total TotDist  Total PrgDist  ...  Ast  xAG  Expected xA  \\\n",
            "0        83.3          28332          18517  ...    0  0.0          0.0   \n",
            "1        89.5          54836          17641  ...    2  1.4          1.1   \n",
            "2        73.4          10807           3092  ...    8  9.4          8.4   \n",
            "3        80.5          35590          12053  ...   11  7.2          6.3   \n",
            "4        76.1          13701           2984  ...    1  4.5          4.6   \n",
            "\n",
            "   Expected A-xAG  KP  1/3  PPA  CrsPA  PrgP  Matches  \n",
            "0             0.0   0    5    1      0     0  Matches  \n",
            "1             0.6   6  144    4      0   174  Matches  \n",
            "2            -1.4  68   55   71      3   127  Matches  \n",
            "3             3.8  50  155   68     15   244  Matches  \n",
            "4            -3.5  45   79   49      6   129  Matches  \n",
            "\n",
            "[5 rows x 29 columns]\n",
            "Head of DataFrame for passing_season_2019_2020:\n",
            "                   Player   Nation Pos   Age   90s  Total Cmp  Total Att  \\\n",
            "0         Virgil van Dijk   nl NED  DF  28.0  38.0       2919       3276   \n",
            "1  Trent Alexander-Arnold  eng ENG  DF  20.0  35.3       2278       3230   \n",
            "2     Georginio Wijnaldum   nl NED  MF  28.0  32.6       1492       1646   \n",
            "3        Andrew Robertson  sct SCO  DF  25.0  34.6       2391       2996   \n",
            "4         Roberto Firmino   br BRA  FW  27.0  33.2        941       1189   \n",
            "\n",
            "   Total Cmp%  Total TotDist  Total PrgDist  ...  Ast   xAG  Expected xA  \\\n",
            "0        89.1          58361          19539  ...    1   1.3          1.5   \n",
            "1        70.5          43250          16071  ...   13  10.9          9.7   \n",
            "2        90.6          21792           4301  ...    0   0.8          1.6   \n",
            "3        79.8          37653          11408  ...   12   7.5          5.9   \n",
            "4        79.1          12229           3146  ...    8   6.5          4.0   \n",
            "\n",
            "   Expected A-xAG  KP  1/3  PPA  CrsPA  PrgP  Matches  \n",
            "0            -0.3   7  182    9      0   170  Matches  \n",
            "1             2.1  87  190   88     31   247  Matches  \n",
            "2            -0.8  18  131   23      1   137  Matches  \n",
            "3             4.5  60  166   56     23   219  Matches  \n",
            "4             1.5  52   74   31      1   111  Matches  \n",
            "\n",
            "[5 rows x 29 columns]\n",
            "Head of DataFrame for passing_season_2020_2021:\n",
            "                   Player   Nation Pos   Age   90s  Total Cmp  Total Att  \\\n",
            "0        Andrew Robertson  sct SCO  DF  26.0  37.6       2624       3303   \n",
            "1           Mohamed Salah   eg EGY  FW  28.0  34.2       1067       1302   \n",
            "2  Trent Alexander-Arnold  eng ENG  DF  21.0  33.7       2245       3015   \n",
            "3     Georginio Wijnaldum   nl NED  MF  29.0  32.7       1644       1778   \n",
            "4                 Alisson   br BRA  GK  27.0  33.0       1000       1157   \n",
            "\n",
            "   Total Cmp%  Total TotDist  Total PrgDist  ...  Ast  xAG  Expected xA  \\\n",
            "0        79.4          41070          12970  ...    7  6.6          5.9   \n",
            "1        82.0          13390           3013  ...    5  6.2          7.0   \n",
            "2        74.5          40719          15754  ...    7  8.6          7.5   \n",
            "3        92.5          23655           5104  ...    0  1.4          1.9   \n",
            "4        86.4          22600          14023  ...    0  0.0          0.0   \n",
            "\n",
            "   Expected A-xAG  KP  1/3  PPA  CrsPA  PrgP  Matches  \n",
            "0             0.4  66  194   62     27   228  Matches  \n",
            "1            -1.2  55   59   72      5   136  Matches  \n",
            "2            -1.6  77  193  101     29   251  Matches  \n",
            "3            -1.4  21  125   16      1   133  Matches  \n",
            "4             0.0   0    4    1      0     1  Matches  \n",
            "\n",
            "[5 rows x 29 columns]\n",
            "Head of DataFrame for passing_season_2021_2022:\n",
            "                   Player   Nation Pos   Age   90s  Total Cmp  Total Att  \\\n",
            "0                 Alisson   br BRA  GK  28.0  36.0       1214       1388   \n",
            "1         Virgil van Dijk   nl NED  DF  30.0  34.0       2376       2655   \n",
            "2  Trent Alexander-Arnold  eng ENG  DF  22.0  31.7       2039       2757   \n",
            "3              Sadio Mané   sn SEN  FW  29.0  31.3        818       1100   \n",
            "4              Joël Matip   cm CMR  DF  29.0  31.0       2074       2344   \n",
            "\n",
            "   Total Cmp%  Total TotDist  Total PrgDist  ...  Ast   xAG  Expected xA  \\\n",
            "0        87.5          28439          18286  ...    1   0.2          0.0   \n",
            "1        89.5          46859          18162  ...    1   1.5          1.0   \n",
            "2        74.0          40112          15683  ...   12  12.0         13.0   \n",
            "3        74.4          12061           2748  ...    2   5.2          4.4   \n",
            "4        88.5          39370          13117  ...    3   1.3          2.0   \n",
            "\n",
            "   Expected A-xAG  KP  1/3  PPA  CrsPA  PrgP  Matches  \n",
            "0             0.8   1   16    1      0     1  Matches  \n",
            "1            -0.5   9  156    4      0   145  Matches  \n",
            "2             0.0  90  245   85     25   267  Matches  \n",
            "3            -3.2  41   63   61      5   130  Matches  \n",
            "4             1.7  12  186    9      0   186  Matches  \n",
            "\n",
            "[5 rows x 29 columns]\n",
            "Head of DataFrame for passing_season_2022_2023:\n",
            "                   Player   Nation Pos   Age   90s  Total Cmp  Total Att  \\\n",
            "0                 Alisson   br BRA  GK  29.0  37.0       1241       1453   \n",
            "1           Mohamed Salah   eg EGY  FW  30.0  36.6        902       1185   \n",
            "2  Trent Alexander-Arnold  eng ENG  DF  23.0  32.5       2188       2912   \n",
            "3         Virgil van Dijk   nl NED  DF  31.0  31.5       2345       2592   \n",
            "4                 Fabinho   br BRA  MF  28.0  29.7       1617       1832   \n",
            "\n",
            "   Total Cmp%  Total TotDist  Total PrgDist  ...  Ast   xAG  Expected xA  \\\n",
            "0        85.4          29043          18696  ...    1   0.3          0.0   \n",
            "1        76.1          12538           3403  ...   12   7.7          7.2   \n",
            "2        75.1          41590          16323  ...    9  11.5          9.1   \n",
            "3        90.5          45523          16670  ...    1   1.2          1.1   \n",
            "4        88.3          26192           6163  ...    2   2.1          1.9   \n",
            "\n",
            "   Expected A-xAG  KP  1/3  PPA  CrsPA  PrgP  Matches  \n",
            "0             0.7   1   16    0      0     3  Matches  \n",
            "1             4.3  65   53   80      7   149  Matches  \n",
            "2            -2.5  71  239   82     28   235  Matches  \n",
            "3            -0.2   7  156    6      0   127  Matches  \n",
            "4            -0.1  17  131   17      0   161  Matches  \n",
            "\n",
            "[5 rows x 29 columns]\n",
            "Head of DataFrame for passing_season_2023_2024:\n",
            "                Player  Nation Pos     Age   90s  Total Cmp  Total Att  \\\n",
            "0      Virgil van Dijk  nl NED  DF  32-271  26.3       1909       2102   \n",
            "1            Luis Díaz  co COL  FW  27-082  21.4        637        767   \n",
            "2  Alexis Mac Allister  ar ARG  MF  25-102  21.1       1219       1407   \n",
            "3   Dominik Szoboszlai  hu HUN  MF  23-162  20.2       1070       1295   \n",
            "4        Mohamed Salah  eg EGY  FW  31-294  21.2        568        776   \n",
            "\n",
            "   Total Cmp%  Total TotDist  Total PrgDist  ...  Ast  xAG  Expected xA  \\\n",
            "0        90.8          36389          13845  ...    2  1.6          0.9   \n",
            "1        83.1           9646           2064  ...    3  3.4          3.1   \n",
            "2        86.6          18953           5602  ...    5  2.6          3.6   \n",
            "3        82.6          16968           4254  ...    2  4.4          4.1   \n",
            "4        73.2           8353           2448  ...    9  9.4          6.2   \n",
            "\n",
            "   Expected A-xAG  KP  1/3  PPA  CrsPA  PrgP  Matches  \n",
            "0             0.4  10  156    7      0   135  Matches  \n",
            "1            -0.4  36   43   30      2    80  Matches  \n",
            "2             2.4  32  111   28      1   150  Matches  \n",
            "3            -2.4  41   84   26      6   130  Matches  \n",
            "4            -0.4  51   44   47      5   110  Matches  \n",
            "\n",
            "[5 rows x 29 columns]\n"
          ]
        }
      ]
    },
    {
      "cell_type": "code",
      "source": [
        "# Loop over the seasons and print the shape of each DataFrame\n",
        "for year in range(17, 24):\n",
        "    # Construct the variable name based on the naming convention\n",
        "    df_name = f\"passing_season_20{year:02d}_20{year+1:02d}\"\n",
        "\n",
        "    # Access the DataFrame using globals() and print its shape\n",
        "    if df_name in globals():\n",
        "        print(f\"{df_name}: {globals()[df_name].shape}\")\n",
        "    else:\n",
        "        print(f\"DataFrame {df_name} not found.\")"
      ],
      "metadata": {
        "colab": {
          "base_uri": "https://localhost:8080/"
        },
        "outputId": "87f1b332-776b-4d75-ba26-dfb9ae11a87d",
        "id": "HMOZBJg4xjny"
      },
      "execution_count": null,
      "outputs": [
        {
          "output_type": "stream",
          "name": "stdout",
          "text": [
            "passing_season_2017_2018: (29, 29)\n",
            "passing_season_2018_2019: (25, 29)\n",
            "passing_season_2019_2020: (26, 29)\n",
            "passing_season_2020_2021: (30, 29)\n",
            "passing_season_2021_2022: (29, 29)\n",
            "passing_season_2022_2023: (30, 29)\n",
            "passing_season_2023_2024: (31, 29)\n"
          ]
        }
      ]
    },
    {
      "cell_type": "code",
      "source": [
        "# Assuming we use the most recent season (2023-2024) as the standard for column order\n",
        "standard_column_order = globals().get('passing_season_2023_2024', pd.DataFrame()).columns.tolist()\n",
        "\n",
        "# Initialize a list to store the modified DataFrames\n",
        "all_seasons_data = []\n",
        "\n",
        "# Loop over the seasons again to align all DataFrames and add the 'season' column\n",
        "for year in range(17, 24):\n",
        "    # Construct the variable name\n",
        "    df_name = f\"passing_season_20{year:02d}_20{year+1:02d}\"\n",
        "\n",
        "    # Access the DataFrame using globals()\n",
        "    if df_name in globals():\n",
        "        # Create a copy to avoid modifying the original DataFrame\n",
        "        df = globals()[df_name].copy()\n",
        "\n",
        "        # Align the DataFrame to the standard column order, filling missing columns with NaN\n",
        "        df = df.reindex(columns=standard_column_order, fill_value=np.nan)\n",
        "\n",
        "        # Add the season identifier column\n",
        "        df['season'] = f\"20{year:02d}-20{year+1:02d}\"\n",
        "\n",
        "        # Append the modified DataFrame to the list\n",
        "        all_seasons_data.append(df)\n",
        "\n",
        "# Concatenate all DataFrames\n",
        "passing_lfc = pd.concat(all_seasons_data, ignore_index=True)"
      ],
      "metadata": {
        "id": "veYFYPAAxjny"
      },
      "execution_count": null,
      "outputs": []
    },
    {
      "cell_type": "code",
      "source": [
        "passing_lfc.info()"
      ],
      "metadata": {
        "colab": {
          "base_uri": "https://localhost:8080/"
        },
        "outputId": "06a0782e-f516-45af-d7c0-e7272745dff6",
        "id": "batTF6jvxjny"
      },
      "execution_count": null,
      "outputs": [
        {
          "output_type": "stream",
          "name": "stdout",
          "text": [
            "<class 'pandas.core.frame.DataFrame'>\n",
            "RangeIndex: 200 entries, 0 to 199\n",
            "Data columns (total 30 columns):\n",
            " #   Column          Non-Null Count  Dtype  \n",
            "---  ------          --------------  -----  \n",
            " 0   Player          200 non-null    object \n",
            " 1   Nation          200 non-null    object \n",
            " 2   Pos             200 non-null    object \n",
            " 3   Age             200 non-null    object \n",
            " 4   90s             200 non-null    float64\n",
            " 5   Total Cmp       200 non-null    int64  \n",
            " 6   Total Att       200 non-null    int64  \n",
            " 7   Total Cmp%      200 non-null    float64\n",
            " 8   Total TotDist   200 non-null    int64  \n",
            " 9   Total PrgDist   200 non-null    int64  \n",
            " 10  Short Cmp       200 non-null    int64  \n",
            " 11  Short Att       200 non-null    int64  \n",
            " 12  Short Cmp%      200 non-null    float64\n",
            " 13  Medium Cmp      200 non-null    int64  \n",
            " 14  Medium Att      200 non-null    int64  \n",
            " 15  Medium Cmp%     200 non-null    float64\n",
            " 16  Long Cmp        200 non-null    int64  \n",
            " 17  Long Att        200 non-null    int64  \n",
            " 18  Long Cmp%       200 non-null    float64\n",
            " 19  Ast             200 non-null    int64  \n",
            " 20  xAG             200 non-null    float64\n",
            " 21  Expected xA     200 non-null    float64\n",
            " 22  Expected A-xAG  200 non-null    float64\n",
            " 23  KP              200 non-null    int64  \n",
            " 24  1/3             200 non-null    int64  \n",
            " 25  PPA             200 non-null    int64  \n",
            " 26  CrsPA           200 non-null    int64  \n",
            " 27  PrgP            200 non-null    int64  \n",
            " 28  Matches         200 non-null    object \n",
            " 29  season          200 non-null    object \n",
            "dtypes: float64(8), int64(16), object(6)\n",
            "memory usage: 47.0+ KB\n"
          ]
        }
      ]
    },
    {
      "cell_type": "code",
      "source": [
        "passing_lfc['Player'].value_counts()"
      ],
      "metadata": {
        "colab": {
          "base_uri": "https://localhost:8080/"
        },
        "outputId": "2713fe49-dfae-421b-93d3-1c342c56f210",
        "id": "iYGUW08Jxjny"
      },
      "execution_count": null,
      "outputs": [
        {
          "output_type": "execute_result",
          "data": {
            "text/plain": [
              "Player\n",
              "Mohamed Salah             7\n",
              "Joël Matip                7\n",
              "Virgil van Dijk           7\n",
              "Opponent Total            7\n",
              "Trent Alexander-Arnold    7\n",
              "                         ..\n",
              "Philippe Coutinho         1\n",
              "Dominic Solanke           1\n",
              "Danny Ings                1\n",
              "Rafael Camacho            1\n",
              "James McConnell           1\n",
              "Name: count, Length: 65, dtype: int64"
            ]
          },
          "metadata": {},
          "execution_count": 31
        }
      ]
    },
    {
      "cell_type": "code",
      "source": [
        "passing_lfc = passing_lfc[(passing_lfc['Player'] != 'Squad Total') & (passing_lfc['Player'] != 'Opponent Total')]"
      ],
      "metadata": {
        "id": "F4vXaXG_xjny"
      },
      "execution_count": null,
      "outputs": []
    },
    {
      "cell_type": "code",
      "source": [
        "passing_lfc.info()"
      ],
      "metadata": {
        "colab": {
          "base_uri": "https://localhost:8080/"
        },
        "outputId": "c511711f-a0b1-48d9-972d-287f83e519ad",
        "id": "SDaRrjYHxjnz"
      },
      "execution_count": null,
      "outputs": [
        {
          "output_type": "stream",
          "name": "stdout",
          "text": [
            "<class 'pandas.core.frame.DataFrame'>\n",
            "Index: 186 entries, 0 to 197\n",
            "Data columns (total 30 columns):\n",
            " #   Column          Non-Null Count  Dtype  \n",
            "---  ------          --------------  -----  \n",
            " 0   Player          186 non-null    object \n",
            " 1   Nation          186 non-null    object \n",
            " 2   Pos             186 non-null    object \n",
            " 3   Age             186 non-null    object \n",
            " 4   90s             186 non-null    float64\n",
            " 5   Total Cmp       186 non-null    int64  \n",
            " 6   Total Att       186 non-null    int64  \n",
            " 7   Total Cmp%      186 non-null    float64\n",
            " 8   Total TotDist   186 non-null    int64  \n",
            " 9   Total PrgDist   186 non-null    int64  \n",
            " 10  Short Cmp       186 non-null    int64  \n",
            " 11  Short Att       186 non-null    int64  \n",
            " 12  Short Cmp%      186 non-null    float64\n",
            " 13  Medium Cmp      186 non-null    int64  \n",
            " 14  Medium Att      186 non-null    int64  \n",
            " 15  Medium Cmp%     186 non-null    float64\n",
            " 16  Long Cmp        186 non-null    int64  \n",
            " 17  Long Att        186 non-null    int64  \n",
            " 18  Long Cmp%       186 non-null    float64\n",
            " 19  Ast             186 non-null    int64  \n",
            " 20  xAG             186 non-null    float64\n",
            " 21  Expected xA     186 non-null    float64\n",
            " 22  Expected A-xAG  186 non-null    float64\n",
            " 23  KP              186 non-null    int64  \n",
            " 24  1/3             186 non-null    int64  \n",
            " 25  PPA             186 non-null    int64  \n",
            " 26  CrsPA           186 non-null    int64  \n",
            " 27  PrgP            186 non-null    int64  \n",
            " 28  Matches         186 non-null    object \n",
            " 29  season          186 non-null    object \n",
            "dtypes: float64(8), int64(16), object(6)\n",
            "memory usage: 45.0+ KB\n"
          ]
        }
      ]
    },
    {
      "cell_type": "code",
      "source": [
        "passing_lfc.to_csv('passing_lfc.csv', sep=',', index=False, encoding='utf-8-sig')"
      ],
      "metadata": {
        "id": "5mTiJophxjnz"
      },
      "execution_count": null,
      "outputs": []
    },
    {
      "cell_type": "code",
      "source": [],
      "metadata": {
        "id": "T_Ls_apQMnmd"
      },
      "execution_count": null,
      "outputs": []
    },
    {
      "cell_type": "markdown",
      "source": [
        "## Getting passing type data for Liverpool FC from EPL Season 2017-2018 to 2023-2024"
      ],
      "metadata": {
        "id": "4GvCDL_rMn64"
      }
    },
    {
      "cell_type": "code",
      "source": [
        "for season in fbref_data.keys():\n",
        "    # Construct the variable name based on the naming convention\n",
        "    variable_name = f\"pass_type_season_{season.replace('-', '_')}\"\n",
        "\n",
        "    # Assign the DataFrame to the dynamically created variable\n",
        "    # Using the first table from each season's data\n",
        "    globals()[variable_name] = fbref_data[season][6]\n",
        "\n",
        "# Loop over the seasons\n",
        "for year in range(17, 24):\n",
        "    # Construct the variable name\n",
        "    df_name = f\"pass_type_season_20{year:02d}_20{year+1:02d}\"\n",
        "\n",
        "    # Access the DataFrame using globals()\n",
        "    df = globals()[df_name]\n",
        "\n",
        "    # Perform the operations\n",
        "    # 1. Combining multi-level column names\n",
        "    df.columns = [' '.join(col).strip() for col in df.columns]\n",
        "\n",
        "    # 2. Resetting the index\n",
        "    df = df.reset_index(drop=True)\n",
        "\n",
        "    # 3. Renaming columns to handle 'level_0' occurrences\n",
        "    new_columns = []\n",
        "    for col in df.columns:\n",
        "        if 'level_0' in col:\n",
        "            new_col = col.split()[-1]  # takes the last name\n",
        "        else:\n",
        "            new_col = col\n",
        "        new_columns.append(new_col)\n",
        "    df.columns = new_columns\n",
        "\n",
        "    # 4. Filling NaN values with 0\n",
        "    df = df.fillna(0)\n",
        "\n",
        "    # 5. Optionally printing the head (first few rows) of each DataFrame\n",
        "    print(f\"Head of DataFrame for {df_name}:\")\n",
        "    print(df.head())\n",
        "\n",
        "    # Update the DataFrame in globals()\n",
        "    globals()[df_name] = df"
      ],
      "metadata": {
        "colab": {
          "base_uri": "https://localhost:8080/"
        },
        "id": "sySNBjQSMn65",
        "outputId": "86e76cca-f5ac-4feb-baff-239f94093938"
      },
      "execution_count": 41,
      "outputs": [
        {
          "output_type": "stream",
          "name": "stdout",
          "text": [
            "Head of DataFrame for pass_type_season_2017_2018:\n",
            "                Player   Nation Pos   Age   90s   Att  Pass Types Live  \\\n",
            "0        Mohamed Salah   eg EGY  FW  25.0  32.3  1055              955   \n",
            "1      Roberto Firmino   br BRA  FW  25.0  30.7  1233             1180   \n",
            "2           Sadio Mané   sn SEN  FW  25.0  24.3  1005              991   \n",
            "3  Georginio Wijnaldum   nl NED  MF  26.0  26.5  1283             1245   \n",
            "4     Jordan Henderson  eng ENG  MF  27.0  24.1  2117             2061   \n",
            "\n",
            "   Pass Types Dead  Pass Types FK  Pass Types TB  ...  Pass Types Crs  \\\n",
            "0               96             12              8  ...              86   \n",
            "1               48              5             17  ...              43   \n",
            "2               11              2             10  ...              32   \n",
            "3               29              8              2  ...               2   \n",
            "4               53             44              7  ...              25   \n",
            "\n",
            "   Pass Types TI  Pass Types CK  Corner Kicks In  Corner Kicks Out  \\\n",
            "0             19             62               43                 9   \n",
            "1             16              1                1                 0   \n",
            "2              8              1                0                 0   \n",
            "3              6              1                0                 0   \n",
            "4              4              5                1                 2   \n",
            "\n",
            "   Corner Kicks Str  Outcomes Cmp  Outcomes Off  Outcomes Blocks  Matches  \n",
            "0                 0           772             4               32  Matches  \n",
            "1                 0           869             5               52  Matches  \n",
            "2                 0           787             3               29  Matches  \n",
            "3                 0          1145             9                9  Matches  \n",
            "4                 0          1769             3               19  Matches  \n",
            "\n",
            "[5 rows x 21 columns]\n",
            "Head of DataFrame for pass_type_season_2018_2019:\n",
            "             Player   Nation Pos   Age   90s   Att  Pass Types Live  \\\n",
            "0           Alisson   br BRA  GK  25.0  38.0  1290              984   \n",
            "1   Virgil van Dijk   nl NED  DF  27.0  37.6  3049             2976   \n",
            "2     Mohamed Salah   eg EGY  FW  26.0  36.1  1152             1064   \n",
            "3  Andrew Robertson  sct SCO  DF  24.0  35.7  2840             2488   \n",
            "4        Sadio Mané   sn SEN  FW  26.0  34.2  1243             1217   \n",
            "\n",
            "   Pass Types Dead  Pass Types FK  Pass Types TB  ...  Pass Types Crs  \\\n",
            "0              304             88              0  ...               0   \n",
            "1               67             61              0  ...               0   \n",
            "2               85             12             19  ...              57   \n",
            "3              347             40              2  ...             135   \n",
            "4               21              3             14  ...              39   \n",
            "\n",
            "   Pass Types TI  Pass Types CK  Corner Kicks In  Corner Kicks Out  \\\n",
            "0              0              0                0                 0   \n",
            "1              6              0                0                 0   \n",
            "2             13             35               14                15   \n",
            "3            303              4                0                 3   \n",
            "4             16              2                0                 0   \n",
            "\n",
            "   Corner Kicks Str  Outcomes Cmp  Outcomes Off  Outcomes Blocks  Matches  \n",
            "0                 0          1075             2                2  Matches  \n",
            "1                 0          2730             6                8  Matches  \n",
            "2                 0           846             3               40  Matches  \n",
            "3                 0          2285             5               51  Matches  \n",
            "4                 0           946             5               44  Matches  \n",
            "\n",
            "[5 rows x 21 columns]\n",
            "Head of DataFrame for pass_type_season_2019_2020:\n",
            "                   Player   Nation Pos   Age   90s   Att  Pass Types Live  \\\n",
            "0         Virgil van Dijk   nl NED  DF  28.0  38.0  3276             3169   \n",
            "1  Trent Alexander-Arnold  eng ENG  DF  20.0  35.3  3230             2573   \n",
            "2     Georginio Wijnaldum   nl NED  MF  28.0  32.6  1646             1617   \n",
            "3        Andrew Robertson  sct SCO  DF  25.0  34.6  2996             2606   \n",
            "4         Roberto Firmino   br BRA  FW  27.0  33.2  1189             1154   \n",
            "\n",
            "   Pass Types Dead  Pass Types FK  Pass Types TB  ...  Pass Types Crs  \\\n",
            "0              106             88              7  ...               0   \n",
            "1              645             87              5  ...             382   \n",
            "2               28             13              0  ...               5   \n",
            "3              386             54              2  ...             210   \n",
            "4               31              3              8  ...               9   \n",
            "\n",
            "   Pass Types TI  Pass Types CK  Corner Kicks In  Corner Kicks Out  \\\n",
            "0             16              0                0                 0   \n",
            "1            396            162               45                76   \n",
            "2             15              0                0                 0   \n",
            "3            290             42                6                26   \n",
            "4             15              0                0                 0   \n",
            "\n",
            "   Corner Kicks Str  Outcomes Cmp  Outcomes Off  Outcomes Blocks  Matches  \n",
            "0                 0          2919             1                6  Matches  \n",
            "1                 2          2278            12               69  Matches  \n",
            "2                 0          1492             1               23  Matches  \n",
            "3                 0          2391             4               49  Matches  \n",
            "4                 0           941             4               38  Matches  \n",
            "\n",
            "[5 rows x 21 columns]\n",
            "Head of DataFrame for pass_type_season_2020_2021:\n",
            "                   Player   Nation Pos   Age   90s   Att  Pass Types Live  \\\n",
            "0        Andrew Robertson  sct SCO  DF  26.0  37.6  3303             2774   \n",
            "1           Mohamed Salah   eg EGY  FW  28.0  34.2  1302             1266   \n",
            "2  Trent Alexander-Arnold  eng ENG  DF  21.0  33.7  3015             2516   \n",
            "3     Georginio Wijnaldum   nl NED  MF  29.0  32.7  1778             1740   \n",
            "4                 Alisson   br BRA  GK  27.0  33.0  1157              919   \n",
            "\n",
            "   Pass Types Dead  Pass Types FK  Pass Types TB  ...  Pass Types Crs  \\\n",
            "0              521             81              2  ...             294   \n",
            "1               32              3             10  ...              29   \n",
            "2              488             56              6  ...             297   \n",
            "3               37             23              1  ...               6   \n",
            "4              234             61              0  ...               0   \n",
            "\n",
            "   Pass Types TI  Pass Types CK  Corner Kicks In  Corner Kicks Out  \\\n",
            "0            321            119               22                78   \n",
            "1              6              0                0                 0   \n",
            "2            326            106               16                61   \n",
            "3             14              0                0                 0   \n",
            "4              0              0                0                 0   \n",
            "\n",
            "   Corner Kicks Str  Outcomes Cmp  Outcomes Off  Outcomes Blocks  Matches  \n",
            "0                 0          2624             8               51  Matches  \n",
            "1                 0          1067             4               40  Matches  \n",
            "2                 2          2245            11               52  Matches  \n",
            "3                 0          1644             1               13  Matches  \n",
            "4                 0          1000             4                0  Matches  \n",
            "\n",
            "[5 rows x 21 columns]\n",
            "Head of DataFrame for pass_type_season_2021_2022:\n",
            "                   Player   Nation Pos   Age   90s   Att  Pass Types Live  \\\n",
            "0                 Alisson   br BRA  GK  28.0  36.0  1388             1154   \n",
            "1         Virgil van Dijk   nl NED  DF  30.0  34.0  2655             2575   \n",
            "2  Trent Alexander-Arnold  eng ENG  DF  22.0  31.7  2757             2204   \n",
            "3              Sadio Mané   sn SEN  FW  29.0  31.3  1100             1082   \n",
            "4              Joël Matip   cm CMR  DF  29.0  31.0  2344             2280   \n",
            "\n",
            "   Pass Types Dead  Pass Types FK  Pass Types TB  ...  Pass Types Crs  \\\n",
            "0              234             62              0  ...               0   \n",
            "1               78             71              6  ...               0   \n",
            "2              548             93             17  ...             273   \n",
            "3               12              3             16  ...              50   \n",
            "4               61             40              3  ...               1   \n",
            "\n",
            "   Pass Types TI  Pass Types CK  Corner Kicks In  Corner Kicks Out  \\\n",
            "0              0              0                0                 0   \n",
            "1              7              0                0                 0   \n",
            "2            324            131               29                89   \n",
            "3              8              0                0                 0   \n",
            "4             21              0                0                 0   \n",
            "\n",
            "   Corner Kicks Str  Outcomes Cmp  Outcomes Off  Outcomes Blocks  Matches  \n",
            "0                 0          1214             0                0  Matches  \n",
            "1                 0          2376             2                5  Matches  \n",
            "2                 0          2039             5               34  Matches  \n",
            "3                 0           818             6               41  Matches  \n",
            "4                 0          2074             3               10  Matches  \n",
            "\n",
            "[5 rows x 21 columns]\n",
            "Head of DataFrame for pass_type_season_2022_2023:\n",
            "                   Player   Nation Pos   Age   90s   Att  Pass Types Live  \\\n",
            "0                 Alisson   br BRA  GK  29.0  37.0  1453             1199   \n",
            "1           Mohamed Salah   eg EGY  FW  30.0  36.6  1185             1146   \n",
            "2  Trent Alexander-Arnold  eng ENG  DF  23.0  32.5  2912             2393   \n",
            "3         Virgil van Dijk   nl NED  DF  31.0  31.5  2592             2492   \n",
            "4                 Fabinho   br BRA  MF  28.0  29.7  1832             1789   \n",
            "\n",
            "   Pass Types Dead  Pass Types FK  Pass Types TB  ...  Pass Types Crs  \\\n",
            "0              250             57              0  ...               0   \n",
            "1               29              4             14  ...              38   \n",
            "2              509             70             26  ...             252   \n",
            "3               99             73              1  ...               1   \n",
            "4               38             31              5  ...               5   \n",
            "\n",
            "   Pass Types TI  Pass Types CK  Corner Kicks In  Corner Kicks Out  \\\n",
            "0              0              0                0                 0   \n",
            "1             17              0                0                 0   \n",
            "2            341             98               16                74   \n",
            "3              9              0                0                 0   \n",
            "4              7              0                0                 0   \n",
            "\n",
            "   Corner Kicks Str  Outcomes Cmp  Outcomes Off  Outcomes Blocks  Matches  \n",
            "0                 0          1241             4                1  Matches  \n",
            "1                 0           902            10               40  Matches  \n",
            "2                 1          2188            10               37  Matches  \n",
            "3                 0          2345             1                9  Matches  \n",
            "4                 0          1617             5               18  Matches  \n",
            "\n",
            "[5 rows x 21 columns]\n",
            "Head of DataFrame for pass_type_season_2023_2024:\n",
            "                Player  Nation Pos     Age   90s   Att  Pass Types Live  \\\n",
            "0      Virgil van Dijk  nl NED  DF  32-271  26.3  2102             1970   \n",
            "1            Luis Díaz  co COL  FW  27-082  21.4   767              735   \n",
            "2  Alexis Mac Allister  ar ARG  MF  25-102  21.1  1407             1356   \n",
            "3   Dominik Szoboszlai  hu HUN  MF  23-162  20.2  1295             1158   \n",
            "4        Mohamed Salah  eg EGY  FW  31-294  21.2   776              744   \n",
            "\n",
            "   Pass Types Dead  Pass Types FK  Pass Types TB  ...  Pass Types Crs  \\\n",
            "0              130             62              0  ...               0   \n",
            "1               27              3              3  ...              18   \n",
            "2               48             30             12  ...              23   \n",
            "3              131             29              2  ...              91   \n",
            "4               23              3             14  ...              28   \n",
            "\n",
            "   Pass Types TI  Pass Types CK  Corner Kicks In  Corner Kicks Out  \\\n",
            "0             12              0                0                 0   \n",
            "1             23              0                0                 0   \n",
            "2              1             10                2                 8   \n",
            "3             24             52               23                18   \n",
            "4             16              0                0                 0   \n",
            "\n",
            "   Corner Kicks Str  Outcomes Cmp  Outcomes Off  Outcomes Blocks  Matches  \n",
            "0                 0          1909             2                5  Matches  \n",
            "1                 0           637             5               23  Matches  \n",
            "2                 0          1219             3               24  Matches  \n",
            "3                 2          1070             6               21  Matches  \n",
            "4                 0           568             9               31  Matches  \n",
            "\n",
            "[5 rows x 21 columns]\n"
          ]
        }
      ]
    },
    {
      "cell_type": "code",
      "source": [
        "# Loop over the seasons and print the shape of each DataFrame\n",
        "for year in range(17, 24):\n",
        "    # Construct the variable name based on the naming convention\n",
        "    df_name = f\"pass_type_season_20{year:02d}_20{year+1:02d}\"\n",
        "\n",
        "    # Access the DataFrame using globals() and print its shape\n",
        "    if df_name in globals():\n",
        "        print(f\"{df_name}: {globals()[df_name].shape}\")\n",
        "    else:\n",
        "        print(f\"DataFrame {df_name} not found.\")"
      ],
      "metadata": {
        "colab": {
          "base_uri": "https://localhost:8080/"
        },
        "id": "O4lAMmLnMn65",
        "outputId": "b5d7468b-c04c-4d18-8986-8cf57139a238"
      },
      "execution_count": 42,
      "outputs": [
        {
          "output_type": "stream",
          "name": "stdout",
          "text": [
            "pass_type_season_2017_2018: (29, 21)\n",
            "pass_type_season_2018_2019: (25, 21)\n",
            "pass_type_season_2019_2020: (26, 21)\n",
            "pass_type_season_2020_2021: (30, 21)\n",
            "pass_type_season_2021_2022: (29, 21)\n",
            "pass_type_season_2022_2023: (30, 21)\n",
            "pass_type_season_2023_2024: (31, 21)\n"
          ]
        }
      ]
    },
    {
      "cell_type": "code",
      "source": [
        "# Assuming we use the most recent season (2023-2024) as the standard for column order\n",
        "standard_column_order = globals().get('pass_type_season_2023_2024', pd.DataFrame()).columns.tolist()\n",
        "\n",
        "# Initialize a list to store the modified DataFrames\n",
        "all_seasons_data = []\n",
        "\n",
        "# Loop over the seasons again to align all DataFrames and add the 'season' column\n",
        "for year in range(17, 24):\n",
        "    # Construct the variable name\n",
        "    df_name = f\"pass_type_season_20{year:02d}_20{year+1:02d}\"\n",
        "\n",
        "    # Access the DataFrame using globals()\n",
        "    if df_name in globals():\n",
        "        # Create a copy to avoid modifying the original DataFrame\n",
        "        df = globals()[df_name].copy()\n",
        "\n",
        "        # Align the DataFrame to the standard column order, filling missing columns with NaN\n",
        "        df = df.reindex(columns=standard_column_order, fill_value=np.nan)\n",
        "\n",
        "        # Add the season identifier column\n",
        "        df['season'] = f\"20{year:02d}-20{year+1:02d}\"\n",
        "\n",
        "        # Append the modified DataFrame to the list\n",
        "        all_seasons_data.append(df)\n",
        "\n",
        "# Concatenate all DataFrames\n",
        "pass_type_lfc = pd.concat(all_seasons_data, ignore_index=True)"
      ],
      "metadata": {
        "id": "R8566nD2Mn65"
      },
      "execution_count": 43,
      "outputs": []
    },
    {
      "cell_type": "code",
      "source": [
        "pass_type_lfc.info()"
      ],
      "metadata": {
        "colab": {
          "base_uri": "https://localhost:8080/"
        },
        "id": "qIXmdSgDMn65",
        "outputId": "8183e42c-bc4e-4e5d-8594-4d0e1691ab26"
      },
      "execution_count": 44,
      "outputs": [
        {
          "output_type": "stream",
          "name": "stdout",
          "text": [
            "<class 'pandas.core.frame.DataFrame'>\n",
            "RangeIndex: 200 entries, 0 to 199\n",
            "Data columns (total 22 columns):\n",
            " #   Column            Non-Null Count  Dtype  \n",
            "---  ------            --------------  -----  \n",
            " 0   Player            200 non-null    object \n",
            " 1   Nation            200 non-null    object \n",
            " 2   Pos               200 non-null    object \n",
            " 3   Age               200 non-null    object \n",
            " 4   90s               200 non-null    float64\n",
            " 5   Att               200 non-null    int64  \n",
            " 6   Pass Types Live   200 non-null    int64  \n",
            " 7   Pass Types Dead   200 non-null    int64  \n",
            " 8   Pass Types FK     200 non-null    int64  \n",
            " 9   Pass Types TB     200 non-null    int64  \n",
            " 10  Pass Types Sw     200 non-null    int64  \n",
            " 11  Pass Types Crs    200 non-null    int64  \n",
            " 12  Pass Types TI     200 non-null    int64  \n",
            " 13  Pass Types CK     200 non-null    int64  \n",
            " 14  Corner Kicks In   200 non-null    int64  \n",
            " 15  Corner Kicks Out  200 non-null    int64  \n",
            " 16  Corner Kicks Str  200 non-null    int64  \n",
            " 17  Outcomes Cmp      200 non-null    int64  \n",
            " 18  Outcomes Off      200 non-null    int64  \n",
            " 19  Outcomes Blocks   200 non-null    int64  \n",
            " 20  Matches           200 non-null    object \n",
            " 21  season            200 non-null    object \n",
            "dtypes: float64(1), int64(15), object(6)\n",
            "memory usage: 34.5+ KB\n"
          ]
        }
      ]
    },
    {
      "cell_type": "code",
      "source": [
        "pass_type_lfc['Player'].value_counts()"
      ],
      "metadata": {
        "colab": {
          "base_uri": "https://localhost:8080/"
        },
        "id": "vhFPxHwQMn65",
        "outputId": "f5a50ae2-6418-441b-a8a9-36fa413a72b6"
      },
      "execution_count": 45,
      "outputs": [
        {
          "output_type": "execute_result",
          "data": {
            "text/plain": [
              "Player\n",
              "Mohamed Salah             7\n",
              "Joël Matip                7\n",
              "Virgil van Dijk           7\n",
              "Opponent Total            7\n",
              "Trent Alexander-Arnold    7\n",
              "                         ..\n",
              "Philippe Coutinho         1\n",
              "Dominic Solanke           1\n",
              "Danny Ings                1\n",
              "Rafael Camacho            1\n",
              "James McConnell           1\n",
              "Name: count, Length: 65, dtype: int64"
            ]
          },
          "metadata": {},
          "execution_count": 45
        }
      ]
    },
    {
      "cell_type": "code",
      "source": [
        "pass_type_lfc = pass_type_lfc[(pass_type_lfc['Player'] != 'Squad Total') & (pass_type_lfc['Player'] != 'Opponent Total')]"
      ],
      "metadata": {
        "id": "t1bme4TzMn65"
      },
      "execution_count": 46,
      "outputs": []
    },
    {
      "cell_type": "code",
      "source": [
        "pass_type_lfc.info()"
      ],
      "metadata": {
        "colab": {
          "base_uri": "https://localhost:8080/"
        },
        "id": "qYXQNsD-Mn66",
        "outputId": "98f0bd76-90b5-4145-c43a-2db88edad6d4"
      },
      "execution_count": 47,
      "outputs": [
        {
          "output_type": "stream",
          "name": "stdout",
          "text": [
            "<class 'pandas.core.frame.DataFrame'>\n",
            "Index: 186 entries, 0 to 197\n",
            "Data columns (total 22 columns):\n",
            " #   Column            Non-Null Count  Dtype  \n",
            "---  ------            --------------  -----  \n",
            " 0   Player            186 non-null    object \n",
            " 1   Nation            186 non-null    object \n",
            " 2   Pos               186 non-null    object \n",
            " 3   Age               186 non-null    object \n",
            " 4   90s               186 non-null    float64\n",
            " 5   Att               186 non-null    int64  \n",
            " 6   Pass Types Live   186 non-null    int64  \n",
            " 7   Pass Types Dead   186 non-null    int64  \n",
            " 8   Pass Types FK     186 non-null    int64  \n",
            " 9   Pass Types TB     186 non-null    int64  \n",
            " 10  Pass Types Sw     186 non-null    int64  \n",
            " 11  Pass Types Crs    186 non-null    int64  \n",
            " 12  Pass Types TI     186 non-null    int64  \n",
            " 13  Pass Types CK     186 non-null    int64  \n",
            " 14  Corner Kicks In   186 non-null    int64  \n",
            " 15  Corner Kicks Out  186 non-null    int64  \n",
            " 16  Corner Kicks Str  186 non-null    int64  \n",
            " 17  Outcomes Cmp      186 non-null    int64  \n",
            " 18  Outcomes Off      186 non-null    int64  \n",
            " 19  Outcomes Blocks   186 non-null    int64  \n",
            " 20  Matches           186 non-null    object \n",
            " 21  season            186 non-null    object \n",
            "dtypes: float64(1), int64(15), object(6)\n",
            "memory usage: 33.4+ KB\n"
          ]
        }
      ]
    },
    {
      "cell_type": "code",
      "source": [
        "pass_type_lfc.to_csv('pass_type_lfc.csv', sep=',', index=False, encoding='utf-8-sig')"
      ],
      "metadata": {
        "id": "iQYbvULFMn66"
      },
      "execution_count": 49,
      "outputs": []
    },
    {
      "cell_type": "markdown",
      "source": [
        "## Getting goal and shot creation data for Liverpool FC from EPL Season 2017-2018 to 2023-2024"
      ],
      "metadata": {
        "id": "qbTQ8fPcjRSv"
      }
    },
    {
      "cell_type": "code",
      "source": [
        "for season in fbref_data.keys():\n",
        "    # Construct the variable name based on the naming convention\n",
        "    variable_name = f\"gsc_season_{season.replace('-', '_')}\"\n",
        "\n",
        "    # Assign the DataFrame to the dynamically created variable\n",
        "    # Using the first table from each season's data\n",
        "    globals()[variable_name] = fbref_data[season][7]\n",
        "\n",
        "# Loop over the seasons\n",
        "for year in range(17, 24):\n",
        "    # Construct the variable name\n",
        "    df_name = f\"gsc_season_20{year:02d}_20{year+1:02d}\"\n",
        "\n",
        "    # Access the DataFrame using globals()\n",
        "    df = globals()[df_name]\n",
        "\n",
        "    # Perform the operations\n",
        "    # 1. Combining multi-level column names\n",
        "    df.columns = [' '.join(col).strip() for col in df.columns]\n",
        "\n",
        "    # 2. Resetting the index\n",
        "    df = df.reset_index(drop=True)\n",
        "\n",
        "    # 3. Renaming columns to handle 'level_0' occurrences\n",
        "    new_columns = []\n",
        "    for col in df.columns:\n",
        "        if 'level_0' in col:\n",
        "            new_col = col.split()[-1]  # takes the last name\n",
        "        else:\n",
        "            new_col = col\n",
        "        new_columns.append(new_col)\n",
        "    df.columns = new_columns\n",
        "\n",
        "    # 4. Filling NaN values with 0\n",
        "    df = df.fillna(0)\n",
        "\n",
        "    # 5. Optionally printing the head (first few rows) of each DataFrame\n",
        "    print(f\"Head of DataFrame for {df_name}:\")\n",
        "    print(df.head())\n",
        "\n",
        "    # Update the DataFrame in globals()\n",
        "    globals()[df_name] = df"
      ],
      "metadata": {
        "id": "ttuoCfcHjRS6"
      },
      "execution_count": null,
      "outputs": []
    },
    {
      "cell_type": "code",
      "source": [
        "# Loop over the seasons and print the shape of each DataFrame\n",
        "for year in range(17, 24):\n",
        "    # Construct the variable name based on the naming convention\n",
        "    df_name = f\"gsc_season_20{year:02d}_20{year+1:02d}\"\n",
        "\n",
        "    # Access the DataFrame using globals() and print its shape\n",
        "    if df_name in globals():\n",
        "        print(f\"{df_name}: {globals()[df_name].shape}\")\n",
        "    else:\n",
        "        print(f\"DataFrame {df_name} not found.\")"
      ],
      "metadata": {
        "id": "WXoj0w2TjRS6"
      },
      "execution_count": null,
      "outputs": []
    },
    {
      "cell_type": "code",
      "source": [
        "# Assuming we use the most recent season (2023-2024) as the standard for column order\n",
        "standard_column_order = globals().get('gsc_season_2023_2024', pd.DataFrame()).columns.tolist()\n",
        "\n",
        "# Initialize a list to store the modified DataFrames\n",
        "all_seasons_data = []\n",
        "\n",
        "# Loop over the seasons again to align all DataFrames and add the 'season' column\n",
        "for year in range(17, 24):\n",
        "    # Construct the variable name\n",
        "    df_name = f\"gsc_season_20{year:02d}_20{year+1:02d}\"\n",
        "\n",
        "    # Access the DataFrame using globals()\n",
        "    if df_name in globals():\n",
        "        # Create a copy to avoid modifying the original DataFrame\n",
        "        df = globals()[df_name].copy()\n",
        "\n",
        "        # Align the DataFrame to the standard column order, filling missing columns with NaN\n",
        "        df = df.reindex(columns=standard_column_order, fill_value=np.nan)\n",
        "\n",
        "        # Add the season identifier column\n",
        "        df['season'] = f\"20{year:02d}-20{year+1:02d}\"\n",
        "\n",
        "        # Append the modified DataFrame to the list\n",
        "        all_seasons_data.append(df)\n",
        "\n",
        "# Concatenate all DataFrames\n",
        "gsc_lfc = pd.concat(all_seasons_data, ignore_index=True)"
      ],
      "metadata": {
        "id": "Rga-UGfRjRS6"
      },
      "execution_count": null,
      "outputs": []
    },
    {
      "cell_type": "code",
      "source": [
        "gsc_lfc.info()"
      ],
      "metadata": {
        "id": "5QyG8ZK6jRS6"
      },
      "execution_count": null,
      "outputs": []
    },
    {
      "cell_type": "code",
      "source": [
        "gsc_lfc['Player'].value_counts()"
      ],
      "metadata": {
        "id": "Ku0Y73dXjRS6"
      },
      "execution_count": null,
      "outputs": []
    },
    {
      "cell_type": "code",
      "source": [
        "gsc_lfc = gsc_lfc[(gsc_lfc['Player'] != 'Squad Total') & (gsc_lfc['Player'] != 'Opponent Total')]"
      ],
      "metadata": {
        "id": "qDZW_ndQjRS7"
      },
      "execution_count": null,
      "outputs": []
    },
    {
      "cell_type": "code",
      "source": [
        "gsc_lfc.info()"
      ],
      "metadata": {
        "id": "pvy-Edl4jRS7"
      },
      "execution_count": null,
      "outputs": []
    },
    {
      "cell_type": "code",
      "source": [
        "gsc_lfc.to_csv('gsc_lfc.csv', sep=',', index=False, encoding='utf-8-sig')"
      ],
      "metadata": {
        "id": "LPJdwAi8jRS7"
      },
      "execution_count": null,
      "outputs": []
    },
    {
      "cell_type": "markdown",
      "source": [
        "## Getting defense data for Liverpool FC from EPL Season 2017-2018 to 2023-2024"
      ],
      "metadata": {
        "id": "akkDtIQWlSQ6"
      }
    },
    {
      "cell_type": "code",
      "source": [
        "for season in fbref_data.keys():\n",
        "    # Construct the variable name based on the naming convention\n",
        "    variable_name = f\"defense_season_{season.replace('-', '_')}\"\n",
        "\n",
        "    # Assign the DataFrame to the dynamically created variable\n",
        "    # Using the first table from each season's data\n",
        "    globals()[variable_name] = fbref_data[season][8]\n",
        "\n",
        "# Loop over the seasons\n",
        "for year in range(17, 24):\n",
        "    # Construct the variable name\n",
        "    df_name = f\"defense_season_20{year:02d}_20{year+1:02d}\"\n",
        "\n",
        "    # Access the DataFrame using globals()\n",
        "    df = globals()[df_name]\n",
        "\n",
        "    # Perform the operations\n",
        "    # 1. Combining multi-level column names\n",
        "    df.columns = [' '.join(col).strip() for col in df.columns]\n",
        "\n",
        "    # 2. Resetting the index\n",
        "    df = df.reset_index(drop=True)\n",
        "\n",
        "    # 3. Renaming columns to handle 'level_0' occurrences\n",
        "    new_columns = []\n",
        "    for col in df.columns:\n",
        "        if 'level_0' in col:\n",
        "            new_col = col.split()[-1]  # takes the last name\n",
        "        else:\n",
        "            new_col = col\n",
        "        new_columns.append(new_col)\n",
        "    df.columns = new_columns\n",
        "\n",
        "    # 4. Filling NaN values with 0\n",
        "    df = df.fillna(0)\n",
        "\n",
        "    # 5. Optionally printing the head (first few rows) of each DataFrame\n",
        "    print(f\"Head of DataFrame for {df_name}:\")\n",
        "    print(df.head())\n",
        "\n",
        "    # Update the DataFrame in globals()\n",
        "    globals()[df_name] = df"
      ],
      "metadata": {
        "id": "vC1icrtTlSRF"
      },
      "execution_count": null,
      "outputs": []
    },
    {
      "cell_type": "code",
      "source": [
        "# Loop over the seasons and print the shape of each DataFrame\n",
        "for year in range(17, 24):\n",
        "    # Construct the variable name based on the naming convention\n",
        "    df_name = f\"defense_season_20{year:02d}_20{year+1:02d}\"\n",
        "\n",
        "    # Access the DataFrame using globals() and print its shape\n",
        "    if df_name in globals():\n",
        "        print(f\"{df_name}: {globals()[df_name].shape}\")\n",
        "    else:\n",
        "        print(f\"DataFrame {df_name} not found.\")"
      ],
      "metadata": {
        "id": "FsXsU0jVlSRF"
      },
      "execution_count": null,
      "outputs": []
    },
    {
      "cell_type": "code",
      "source": [
        "# Assuming we use the most recent season (2023-2024) as the standard for column order\n",
        "standard_column_order = globals().get('defense_season_2023_2024', pd.DataFrame()).columns.tolist()\n",
        "\n",
        "# Initialize a list to store the modified DataFrames\n",
        "all_seasons_data = []\n",
        "\n",
        "# Loop over the seasons again to align all DataFrames and add the 'season' column\n",
        "for year in range(17, 24):\n",
        "    # Construct the variable name\n",
        "    df_name = f\"defense_season_20{year:02d}_20{year+1:02d}\"\n",
        "\n",
        "    # Access the DataFrame using globals()\n",
        "    if df_name in globals():\n",
        "        # Create a copy to avoid modifying the original DataFrame\n",
        "        df = globals()[df_name].copy()\n",
        "\n",
        "        # Align the DataFrame to the standard column order, filling missing columns with NaN\n",
        "        df = df.reindex(columns=standard_column_order, fill_value=np.nan)\n",
        "\n",
        "        # Add the season identifier column\n",
        "        df['season'] = f\"20{year:02d}-20{year+1:02d}\"\n",
        "\n",
        "        # Append the modified DataFrame to the list\n",
        "        all_seasons_data.append(df)\n",
        "\n",
        "# Concatenate all DataFrames\n",
        "defense_lfc = pd.concat(all_seasons_data, ignore_index=True)"
      ],
      "metadata": {
        "id": "F23T_7YAlSRF"
      },
      "execution_count": null,
      "outputs": []
    },
    {
      "cell_type": "code",
      "source": [
        "defense_lfc.info()"
      ],
      "metadata": {
        "id": "I92to-_KlSRF"
      },
      "execution_count": null,
      "outputs": []
    },
    {
      "cell_type": "code",
      "source": [
        "defense_lfc['Player'].value_counts()"
      ],
      "metadata": {
        "id": "vJ_5IljHlSRF"
      },
      "execution_count": null,
      "outputs": []
    },
    {
      "cell_type": "code",
      "source": [
        "defense_lfc = defense_lfc[(defense_lfc['Player'] != 'Squad Total') & (defense_lfc['Player'] != 'Opponent Total')]"
      ],
      "metadata": {
        "id": "E4awtUhulSRF"
      },
      "execution_count": null,
      "outputs": []
    },
    {
      "cell_type": "code",
      "source": [
        "defense_lfc.info()"
      ],
      "metadata": {
        "id": "rhAUAw0ulSRF"
      },
      "execution_count": null,
      "outputs": []
    },
    {
      "cell_type": "code",
      "source": [
        "defense_lfc.to_csv('defense_lfc.csv', sep=',', index=False, encoding='utf-8-sig')"
      ],
      "metadata": {
        "id": "Hw7U3HFXlSRG"
      },
      "execution_count": null,
      "outputs": []
    },
    {
      "cell_type": "markdown",
      "source": [
        "## Getting possession data for Liverpool FC from EPL Season 2017-2018 to 2023-2024"
      ],
      "metadata": {
        "id": "vqT1BzV5guDg"
      }
    },
    {
      "cell_type": "code",
      "source": [
        "for season in fbref_data.keys():\n",
        "    # Construct the variable name based on the naming convention\n",
        "    variable_name = f\"possession_season_{season.replace('-', '_')}\"\n",
        "\n",
        "    # Assign the DataFrame to the dynamically created variable\n",
        "    # Using the first table from each season's data\n",
        "    globals()[variable_name] = fbref_data[season][9]\n",
        "\n",
        "# Loop over the seasons\n",
        "for year in range(17, 24):\n",
        "    # Construct the variable name\n",
        "    df_name = f\"possession_season_20{year:02d}_20{year+1:02d}\"\n",
        "\n",
        "    # Access the DataFrame using globals()\n",
        "    df = globals()[df_name]\n",
        "\n",
        "    # Perform the operations\n",
        "    # 1. Combining multi-level column names\n",
        "    df.columns = [' '.join(col).strip() for col in df.columns]\n",
        "\n",
        "    # 2. Resetting the index\n",
        "    df = df.reset_index(drop=True)\n",
        "\n",
        "    # 3. Renaming columns to handle 'level_0' occurrences\n",
        "    new_columns = []\n",
        "    for col in df.columns:\n",
        "        if 'level_0' in col:\n",
        "            new_col = col.split()[-1]  # takes the last name\n",
        "        else:\n",
        "            new_col = col\n",
        "        new_columns.append(new_col)\n",
        "    df.columns = new_columns\n",
        "\n",
        "    # 4. Filling NaN values with 0\n",
        "    df = df.fillna(0)\n",
        "\n",
        "    # 5. Optionally printing the head (first few rows) of each DataFrame\n",
        "    print(f\"Head of DataFrame for {df_name}:\")\n",
        "    print(df.head())\n",
        "\n",
        "    # Update the DataFrame in globals()\n",
        "    globals()[df_name] = df"
      ],
      "metadata": {
        "id": "bSovX6d3guDh"
      },
      "execution_count": null,
      "outputs": []
    },
    {
      "cell_type": "code",
      "source": [
        "# Loop over the seasons and print the shape of each DataFrame\n",
        "for year in range(17, 24):\n",
        "    # Construct the variable name based on the naming convention\n",
        "    df_name = f\"possession_season_20{year:02d}_20{year+1:02d}\"\n",
        "\n",
        "    # Access the DataFrame using globals() and print its shape\n",
        "    if df_name in globals():\n",
        "        print(f\"{df_name}: {globals()[df_name].shape}\")\n",
        "    else:\n",
        "        print(f\"DataFrame {df_name} not found.\")"
      ],
      "metadata": {
        "id": "qopgIrsuguDh"
      },
      "execution_count": null,
      "outputs": []
    },
    {
      "cell_type": "code",
      "source": [
        "# Assuming we use the most recent season (2023-2024) as the standard for column order\n",
        "standard_column_order = globals().get('possession_season_2023_2024', pd.DataFrame()).columns.tolist()\n",
        "\n",
        "# Initialize a list to store the modified DataFrames\n",
        "all_seasons_data = []\n",
        "\n",
        "# Loop over the seasons again to align all DataFrames and add the 'season' column\n",
        "for year in range(17, 24):\n",
        "    # Construct the variable name\n",
        "    df_name = f\"possession_season_20{year:02d}_20{year+1:02d}\"\n",
        "\n",
        "    # Access the DataFrame using globals()\n",
        "    if df_name in globals():\n",
        "        # Create a copy to avoid modifying the original DataFrame\n",
        "        df = globals()[df_name].copy()\n",
        "\n",
        "        # Align the DataFrame to the standard column order, filling missing columns with NaN\n",
        "        df = df.reindex(columns=standard_column_order, fill_value=np.nan)\n",
        "\n",
        "        # Add the season identifier column\n",
        "        df['season'] = f\"20{year:02d}-20{year+1:02d}\"\n",
        "\n",
        "        # Append the modified DataFrame to the list\n",
        "        all_seasons_data.append(df)\n",
        "\n",
        "# Concatenate all DataFrames\n",
        "possession_lfc = pd.concat(all_seasons_data, ignore_index=True)"
      ],
      "metadata": {
        "id": "a6ZX5X9-guDh"
      },
      "execution_count": null,
      "outputs": []
    },
    {
      "cell_type": "code",
      "source": [
        "possession_lfc.info()"
      ],
      "metadata": {
        "id": "WuSYIQ-OguDh"
      },
      "execution_count": null,
      "outputs": []
    },
    {
      "cell_type": "code",
      "source": [
        "possession_lfc['Player'].value_counts()"
      ],
      "metadata": {
        "id": "wxxr7m0AguDh"
      },
      "execution_count": null,
      "outputs": []
    },
    {
      "cell_type": "code",
      "source": [
        "possession_lfc = possession_lfc[(possession_lfc['Player'] != 'Squad Total') & (possession_lfc['Player'] != 'Opponent Total')]"
      ],
      "metadata": {
        "id": "YHMpIMjYguDh"
      },
      "execution_count": null,
      "outputs": []
    },
    {
      "cell_type": "code",
      "source": [
        "possession_lfc.info()"
      ],
      "metadata": {
        "id": "Dy7ko9FpguDh"
      },
      "execution_count": null,
      "outputs": []
    },
    {
      "cell_type": "code",
      "source": [
        "possession_lfc.to_csv('possession_lfc.csv', sep=',', index=False, encoding='utf-8-sig')"
      ],
      "metadata": {
        "id": "eyoeAFswguDh"
      },
      "execution_count": null,
      "outputs": []
    },
    {
      "cell_type": "code",
      "source": [],
      "metadata": {
        "id": "91Sj0SBqirmN"
      },
      "execution_count": null,
      "outputs": []
    },
    {
      "cell_type": "markdown",
      "source": [
        "## Getting playing time data for Liverpool FC from EPL Season 2017-2018 to 2023-2024"
      ],
      "metadata": {
        "id": "8xjeDEeRj5h5"
      }
    },
    {
      "cell_type": "code",
      "source": [
        "for season in fbref_data.keys():\n",
        "    # Construct the variable name based on the naming convention\n",
        "    variable_name = f\"playing_time_season_{season.replace('-', '_')}\"\n",
        "\n",
        "    # Assign the DataFrame to the dynamically created variable\n",
        "    # Using the first table from each season's data\n",
        "    globals()[variable_name] = fbref_data[season][10]\n",
        "\n",
        "# Loop over the seasons\n",
        "for year in range(17, 24):\n",
        "    # Construct the variable name\n",
        "    df_name = f\"playing_time_season_20{year:02d}_20{year+1:02d}\"\n",
        "\n",
        "    # Access the DataFrame using globals()\n",
        "    df = globals()[df_name]\n",
        "\n",
        "    # Perform the operations\n",
        "    # 1. Combining multi-level column names\n",
        "    df.columns = [' '.join(col).strip() for col in df.columns]\n",
        "\n",
        "    # 2. Resetting the index\n",
        "    df = df.reset_index(drop=True)\n",
        "\n",
        "    # 3. Renaming columns to handle 'level_0' occurrences\n",
        "    new_columns = []\n",
        "    for col in df.columns:\n",
        "        if 'level_0' in col:\n",
        "            new_col = col.split()[-1]  # takes the last name\n",
        "        else:\n",
        "            new_col = col\n",
        "        new_columns.append(new_col)\n",
        "    df.columns = new_columns\n",
        "\n",
        "    # 4. Filling NaN values with 0\n",
        "    df = df.fillna(0)\n",
        "\n",
        "    # 5. Optionally printing the head (first few rows) of each DataFrame\n",
        "    print(f\"Head of DataFrame for {df_name}:\")\n",
        "    print(df.head())\n",
        "\n",
        "    # Update the DataFrame in globals()\n",
        "    globals()[df_name] = df"
      ],
      "metadata": {
        "id": "_MH3gsFJj5iC"
      },
      "execution_count": null,
      "outputs": []
    },
    {
      "cell_type": "code",
      "source": [
        "# Loop over the seasons and print the shape of each DataFrame\n",
        "for year in range(17, 24):\n",
        "    # Construct the variable name based on the naming convention\n",
        "    df_name = f\"playing_time_season_20{year:02d}_20{year+1:02d}\"\n",
        "\n",
        "    # Access the DataFrame using globals() and print its shape\n",
        "    if df_name in globals():\n",
        "        print(f\"{df_name}: {globals()[df_name].shape}\")\n",
        "    else:\n",
        "        print(f\"DataFrame {df_name} not found.\")"
      ],
      "metadata": {
        "id": "CM5Do5-cj5iC"
      },
      "execution_count": null,
      "outputs": []
    },
    {
      "cell_type": "code",
      "source": [
        "# Assuming we use the most recent season (2023-2024) as the standard for column order\n",
        "standard_column_order = globals().get('playing_time_season_2023_2024', pd.DataFrame()).columns.tolist()\n",
        "\n",
        "# Initialize a list to store the modified DataFrames\n",
        "all_seasons_data = []\n",
        "\n",
        "# Loop over the seasons again to align all DataFrames and add the 'season' column\n",
        "for year in range(17, 24):\n",
        "    # Construct the variable name\n",
        "    df_name = f\"playing_time_season_20{year:02d}_20{year+1:02d}\"\n",
        "\n",
        "    # Access the DataFrame using globals()\n",
        "    if df_name in globals():\n",
        "        # Create a copy to avoid modifying the original DataFrame\n",
        "        df = globals()[df_name].copy()\n",
        "\n",
        "        # Align the DataFrame to the standard column order, filling missing columns with NaN\n",
        "        df = df.reindex(columns=standard_column_order, fill_value=np.nan)\n",
        "\n",
        "        # Add the season identifier column\n",
        "        df['season'] = f\"20{year:02d}-20{year+1:02d}\"\n",
        "\n",
        "        # Append the modified DataFrame to the list\n",
        "        all_seasons_data.append(df)\n",
        "\n",
        "# Concatenate all DataFrames\n",
        "playing_time_lfc = pd.concat(all_seasons_data, ignore_index=True)"
      ],
      "metadata": {
        "id": "wQGLCM_Zj5iC"
      },
      "execution_count": null,
      "outputs": []
    },
    {
      "cell_type": "code",
      "source": [
        "all_seasons_data"
      ],
      "metadata": {
        "id": "u0GcJlrOo-Q5"
      },
      "execution_count": null,
      "outputs": []
    },
    {
      "cell_type": "code",
      "source": [
        "playing_time_lfc.info()"
      ],
      "metadata": {
        "id": "e0C0RGLKj5iC"
      },
      "execution_count": null,
      "outputs": []
    },
    {
      "cell_type": "code",
      "source": [
        "playing_time_lfc['Player'].value_counts()"
      ],
      "metadata": {
        "id": "mwbVz8VXj5iC"
      },
      "execution_count": null,
      "outputs": []
    },
    {
      "cell_type": "code",
      "source": [
        "playing_time_lfc = playing_time_lfc[(playing_time_lfc['Player'] != 'Squad Total') & (playing_time_lfc['Player'] != 'Opponent Total')]"
      ],
      "metadata": {
        "id": "AE_cOL4wj5iC"
      },
      "execution_count": null,
      "outputs": []
    },
    {
      "cell_type": "code",
      "source": [
        "playing_time_lfc.info()"
      ],
      "metadata": {
        "id": "YxfSBMOzj5iC"
      },
      "execution_count": null,
      "outputs": []
    },
    {
      "cell_type": "code",
      "source": [
        "playing_time_lfc.to_csv('playing_time_lfc.csv', sep=',', index=False, encoding='utf-8-sig')"
      ],
      "metadata": {
        "id": "x4qfwTUDj5iC"
      },
      "execution_count": null,
      "outputs": []
    },
    {
      "cell_type": "code",
      "source": [
        "playing_time_lfc[playing_time_lfc['Player'] == 'Mohamed Salah']"
      ],
      "metadata": {
        "id": "E4GDoZNfktZL"
      },
      "execution_count": null,
      "outputs": []
    },
    {
      "cell_type": "code",
      "source": [],
      "metadata": {
        "id": "F4ityJpGlUEb"
      },
      "execution_count": null,
      "outputs": []
    }
  ],
  "metadata": {
    "kernelspec": {
      "display_name": "Python 3",
      "language": "python",
      "name": "python3"
    },
    "language_info": {
      "codemirror_mode": {
        "name": "ipython",
        "version": 3
      },
      "file_extension": ".py",
      "mimetype": "text/x-python",
      "name": "python",
      "nbconvert_exporter": "python",
      "pygments_lexer": "ipython3",
      "version": "3.8.6"
    },
    "colab": {
      "provenance": []
    }
  },
  "nbformat": 4,
  "nbformat_minor": 0
}